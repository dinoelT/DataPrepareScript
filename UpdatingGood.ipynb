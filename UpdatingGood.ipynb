{
  "cells": [
    {
      "cell_type": "markdown",
      "metadata": {},
      "source": [
        "Types of changes:\n",
        "\n",
        "1) Added label for feature\n",
        "\n",
        "    We need to find the parameters:\n",
        "\n",
        "        1) image name\n",
        "        2) bounding box value for the feature\n",
        "        3) value(Yes, No)\n",
        "\n",
        "        Pass all the parameters to a function that will:\n",
        "            a) Crop the original image\n",
        "            b) Rotate and crop other images\n",
        "\n",
        "2) Modified label for feature\n",
        "    Yes, No, Undef => Remove from old, if old = [Yes or No] and add to new if new = [Yes or No]\n",
        "\n",
        "3) Modified bounding box\n",
        "    We need to find the parameters:\n",
        "        1) bounding_box name\n",
        "        2) model name that corresponds to the bounding box\n",
        "        3) image_name\n",
        "        3) feature_name\n",
        "\n",
        "        Pass all the parameters to a function that will:\n",
        "            a) Remove old cropped images(original and rotated)\n",
        "            b) Crop again and add to the model folders for all models that use this bounding box\n",
        "\n",
        "<!-- 4) Added bounding box\n",
        "    We need to find the parameters:\n",
        "        1) bounding_box name\n",
        "        2) model name that corresponds to the bounding box\n",
        "        3) image_name\n",
        "        3) feature_name\n",
        "\n",
        "        Pass all the parameters to a function that will:\n",
        "            a) Remove old cropped images(original and rotated)\n",
        "            b) Crop again and add to the model folders for all models that use this bounding box -->\n",
        "\n"
      ]
    },
    {
      "cell_type": "code",
      "execution_count": null,
      "metadata": {},
      "outputs": [],
      "source": []
    },
    {
      "cell_type": "code",
      "execution_count": 66,
      "metadata": {},
      "outputs": [],
      "source": [
        "# BB_TO_FEATURES = {}\n",
        "\n",
        "# for feature_name, bb_name in FEATURE_TO_BOUNDING_BOX.items():\n",
        "#     BB_TO_FEATURES[bb_name] = BB_TO_FEATURES.get(bb_name, []) + [feature_name]\n",
        "# mappings[\"BB_TO_FEATURES\"] = BB_TO_FEATURES\n",
        "\n",
        "# save_json(mappings, \"info.json\")"
      ]
    },
    {
      "cell_type": "code",
      "execution_count": 10,
      "metadata": {},
      "outputs": [],
      "source": [
        "from deepdiff import DeepDiff\n",
        "\n",
        "diff = DeepDiff(old_decided, decided, ignore_order=True)\n"
      ]
    },
    {
      "cell_type": "code",
      "execution_count": 7,
      "metadata": {
        "id": "_z4OgM034iJZ"
      },
      "outputs": [
        {
          "ename": "NameError",
          "evalue": "name 'all_labels' is not defined",
          "output_type": "error",
          "traceback": [
            "\u001b[1;31m---------------------------------------------------------------------------\u001b[0m",
            "\u001b[1;31mNameError\u001b[0m                                 Traceback (most recent call last)",
            "\u001b[1;32mc:\\Users\\LeonidTanas\\source\\BiogenaProject\\ModelsTrainingScript\\UpdatingGood.ipynb Cell 2\u001b[0m in \u001b[0;36m<module>\u001b[1;34m\u001b[0m\n\u001b[0;32m      <a href='vscode-notebook-cell:/c%3A/Users/LeonidTanas/source/BiogenaProject/ModelsTrainingScript/UpdatingGood.ipynb#X13sZmlsZQ%3D%3D?line=0'>1</a>\u001b[0m unique_features \u001b[39m=\u001b[39m \u001b[39mset\u001b[39m()\n\u001b[1;32m----> <a href='vscode-notebook-cell:/c%3A/Users/LeonidTanas/source/BiogenaProject/ModelsTrainingScript/UpdatingGood.ipynb#X13sZmlsZQ%3D%3D?line=2'>3</a>\u001b[0m \u001b[39mfor\u001b[39;00m r \u001b[39min\u001b[39;00m all_labels:\n\u001b[0;32m      <a href='vscode-notebook-cell:/c%3A/Users/LeonidTanas/source/BiogenaProject/ModelsTrainingScript/UpdatingGood.ipynb#X13sZmlsZQ%3D%3D?line=3'>4</a>\u001b[0m   unique_features\u001b[39m.\u001b[39mupdate(\u001b[39mlist\u001b[39m(r[\u001b[39m\"\u001b[39m\u001b[39mface_labels\u001b[39m\u001b[39m\"\u001b[39m]\u001b[39m.\u001b[39mkeys()))\n\u001b[0;32m      <a href='vscode-notebook-cell:/c%3A/Users/LeonidTanas/source/BiogenaProject/ModelsTrainingScript/UpdatingGood.ipynb#X13sZmlsZQ%3D%3D?line=5'>6</a>\u001b[0m model_to_feature \u001b[39m=\u001b[39m {}\n",
            "\u001b[1;31mNameError\u001b[0m: name 'all_labels' is not defined"
          ]
        }
      ],
      "source": [
        "unique_features = set()\n",
        "\n",
        "for r in all_labels:\n",
        "  unique_features.update(list(r[\"face_labels\"].keys()))\n",
        "\n",
        "model_to_feature = {}\n",
        "\n",
        "for f in unique_features:\n",
        "  u = f.replace(\"Right\", \"\").replace(\"Left\", \"\")\n",
        "\n",
        "  if u not in model_to_feature:\n",
        "    model_to_feature[u] = [f]\n",
        "  else:\n",
        "    model_to_feature[u].append(f)\n",
        "\n",
        "model_to_feature"
      ]
    },
    {
      "cell_type": "code",
      "execution_count": null,
      "metadata": {
        "id": "wTYWAIDKBOUy"
      },
      "outputs": [],
      "source": [
        "from utils.label_validator import ImageLabel\n",
        "\n",
        "def validate_labels(image_labels):\n",
        "  return [ImageLabel(**lb) for lb in image_labels]"
      ]
    },
    {
      "cell_type": "code",
      "execution_count": null,
      "metadata": {
        "id": "Dwi8GqGpAQro"
      },
      "outputs": [],
      "source": [
        "all_images = set([l.image_name for l in all_labels])\n",
        "\n",
        "feature_to_model = {v: k for k, values in model_to_feature.items() for v in values}\n",
        "feature_to_bb = {f: \"_\".join(f.split(\"_\")[:-1]) for f in  feature_to_model.keys()}"
      ]
    },
    {
      "cell_type": "code",
      "execution_count": null,
      "metadata": {
        "id": "fUdYIdpr_QXR"
      },
      "outputs": [],
      "source": [
        "from utils.constants import INFO_PATH, IMAGES_PATH"
      ]
    },
    {
      "cell_type": "code",
      "execution_count": null,
      "metadata": {
        "id": "yu8r4ODA_TuY"
      },
      "outputs": [],
      "source": [
        "# with open(INFO_PATH, \"w\") as f:\n",
        "#   # data = json.load(f)\n",
        "#   data = {}\n",
        "#   data[\"FEATURE_TO_MODEL\"] = feature_to_model\n",
        "#   data[\"FEATURE_TO_BOUNDING_BOX\"] = feature_to_bb,\n",
        "#   data[\"LABELED_IMAGES\"] = list(all_images)\n",
        "#   data[\"MODELS_TO_FEATURES\"] = model_to_feature\n",
        "#   json.dump(data,f, indent=4)"
      ]
    },
    {
      "cell_type": "code",
      "execution_count": null,
      "metadata": {
        "id": "75DggrNgyiAA"
      },
      "outputs": [],
      "source": [
        "# Save data in different folders for different models\n",
        "# Each object has this format:\n",
        "# {\n",
        "#   \"image_name\": \"in_001382_male_21_InGlasses0.jpg\",\n",
        "#   \"bounding_box\": {\n",
        "#     \"top_left\": {\n",
        "#       \"x\": 1482,\n",
        "#       \"y\": 3654\n",
        "#     },\n",
        "#     \"bottom_right\": {\n",
        "#       \"x\": 1864,\n",
        "#       \"y\": 3748\n",
        "#     }\n",
        "#   }\n",
        "# }\n",
        "\n",
        "import os, json\n",
        "from utils.constants import PROCESSED_LABELS_PATH\n",
        "\n",
        "original_data = {model_name: {\"Yes\": {}, \"No\":{}} for model_name in model_to_feature.keys()}\n",
        "\n",
        "for label in all_labels:\n",
        "\n",
        "  for feature, value in label.face_labels.items():\n",
        "    model_name = feature_to_model[feature]\n",
        "    if value in (\"Yes\", \"No\"):\n",
        "      bb_name = feature_to_bb[feature]\n",
        "\n",
        "      side = \"\"\n",
        "      if \"Left\" in feature:\n",
        "        side = \"Left\"\n",
        "      elif \"Right\" in feature:\n",
        "        side = \"Right\"\n",
        "\n",
        "      bb = label.bounding_boxes.get(bb_name)\n",
        "      if not bb or bb == \"NotValid\":\n",
        "        continue\n",
        "      img_name = label.image_name\n",
        "      obj = {\n",
        "          \"image_name\": img_name,\n",
        "          \"bounding_box\": bb.dict(),\n",
        "      }\n",
        "      if side:\n",
        "        obj[\"side\"] = side\n",
        "      original_data[model_name][value][img_name] = obj\n",
        "\n",
        "for model_name, labels in original_data.items():\n",
        "  \n",
        "  for label, objects in labels.items():\n",
        "    \n",
        "    path = os.path.join(PROCESSED_LABELS_PATH, model_name)\n",
        "    os.makedirs(path, exist_ok=True)\n",
        "    \n",
        "    obj_path = os.path.join(path, f\"{label}.json\")\n",
        "\n",
        "    with open(obj_path, \"w\") as f:\n",
        "      json.dump(objects, f, indent=4)"
      ]
    },
    {
      "cell_type": "code",
      "execution_count": 44,
      "metadata": {
        "id": "hI8qX-r0GwGN"
      },
      "outputs": [],
      "source": [
        "from deepdiff import DeepDiff  # For Deep Difference of 2 objects\n",
        "from deepdiff import grep, DeepSearch  # For finding if item exists in an object\n",
        "from deepdiff import DeepHash"
      ]
    },
    {
      "cell_type": "code",
      "execution_count": 49,
      "metadata": {
        "colab": {
          "base_uri": "https://localhost:8080/"
        },
        "id": "prtV_s0VJIUn",
        "outputId": "e44e09f7-7692-4702-a0b2-0db565b1de11"
      },
      "outputs": [
        {
          "data": {
            "text/plain": [
              "{'dictionary_item_added': [root['bye']],\n",
              " 'values_changed': {\"root['img1']['l1']\": {'new_value': 'no',\n",
              "   'old_value': 'yes'}}}"
            ]
          },
          "execution_count": 49,
          "metadata": {},
          "output_type": "execute_result"
        }
      ],
      "source": [
        "a = {\n",
        "    \"img1\": {\n",
        "      \"l1\": \"yes\", \n",
        "      \"l2\": \"no\"         \n",
        "    },\n",
        "    \"goodbye\": 2\n",
        "}\n",
        "\n",
        "b = {\n",
        "    \"img1\": {\n",
        "      \"l1\": \"no\", \n",
        "      \"l2\": \"no\"         \n",
        "    },\n",
        "    \"goodbye\": 2,\n",
        "     \"bye\": 4\n",
        "}\n",
        "\n",
        "DeepDiff(a, b)\n",
        "\n"
      ]
    },
    {
      "cell_type": "code",
      "execution_count": 40,
      "metadata": {
        "id": "Bw9RHImVXk5f"
      },
      "outputs": [],
      "source": [
        "import concurrent\n",
        "from PIL import Image\n",
        "from utils.constants import CROPPED_RESIZED_PATH, CROPPED_ORIG_PATH\n",
        "from typing import Tuple, Dict\n",
        "from tqdm import tqdm\n",
        "import os\n",
        "import numpy as np\n",
        "\n",
        "def read_numpy(src_img_path, size_w_h = Tuple[int, int]):\n",
        "  return np.array(Image.open(src_img_path))\n",
        "# Counts the amount of \n",
        "def read_images_as_ndarray(model_name: str, size_w_h = Tuple[int, int], max_workers = 100)-> Dict[str, np.ndarray]:\n",
        "  width, height = size_w_h\n",
        "  source_model_path = os.path.join(CROPPED_RESIZED_PATH, model_name, f\"w_{width}_h_{height}\")\n",
        "\n",
        "  if not os.path.exists(source_model_path):\n",
        "    raise ValueError(f\"Path '{source_model_path}' does not exist\")\n",
        "\n",
        "  data = {}\n",
        "  for label in (\"Yes\", \"No\"):\n",
        "\n",
        "    source_folder = os.path.join(source_model_path, label)\n",
        "    images_to_read = [os.path.join(source_folder, img) for img in os.listdir(source_folder) if \".png\" in img]\n",
        "    \n",
        "\n",
        "    with concurrent.futures.ThreadPoolExecutor(max_workers=max_workers) as executor:\n",
        "      futures = []\n",
        "\n",
        "      for img_path in images_to_read:\n",
        "        futures.append( executor.submit(read_numpy, img_path))\n",
        "      data[label] = [future.result() for future in tqdm(concurrent.futures.as_completed(futures))]\n",
        "\n",
        "  for k in data:\n",
        "    data[k] = np.array(data[k])\n",
        "  return data\n"
      ]
    },
    {
      "cell_type": "code",
      "execution_count": null,
      "metadata": {
        "id": "0y23HZRPUDEC"
      },
      "outputs": [],
      "source": [
        "model_name = \"Eye_OuterCorner_Dark\"\n",
        "data = read_images_as_ndarray(model_name, (125, 200))"
      ]
    },
    {
      "cell_type": "code",
      "execution_count": 42,
      "metadata": {
        "colab": {
          "base_uri": "https://localhost:8080/",
          "height": 305
        },
        "id": "PEUFvN3NFlF-",
        "outputId": "90338a7c-a50e-4b7c-fcc3-07a71d32b1aa"
      },
      "outputs": [
        {
          "ename": "ModuleNotFoundError",
          "evalue": "ignored",
          "output_type": "error",
          "traceback": [
            "\u001b[0;31m---------------------------------------------------------------------------\u001b[0m",
            "\u001b[0;31mModuleNotFoundError\u001b[0m                       Traceback (most recent call last)",
            "\u001b[0;32m<ipython-input-42-9d6b2496ec85>\u001b[0m in \u001b[0;36m<module>\u001b[0;34m\u001b[0m\n\u001b[0;32m----> 1\u001b[0;31m \u001b[0;32mimport\u001b[0m \u001b[0mdeepdiff\u001b[0m\u001b[0;34m\u001b[0m\u001b[0;34m\u001b[0m\u001b[0m\n\u001b[0m",
            "\u001b[0;31mModuleNotFoundError\u001b[0m: No module named 'deepdiff'",
            "",
            "\u001b[0;31m---------------------------------------------------------------------------\u001b[0;32m\nNOTE: If your import is failing due to a missing package, you can\nmanually install dependencies using either !pip or !apt.\n\nTo view examples of installing some common dependencies, click the\n\"Open Examples\" button below.\n\u001b[0;31m---------------------------------------------------------------------------\u001b[0m\n"
          ]
        }
      ],
      "source": [
        "import deepdiff"
      ]
    },
    {
      "cell_type": "code",
      "execution_count": 39,
      "metadata": {
        "colab": {
          "base_uri": "https://localhost:8080/"
        },
        "id": "1WNtmla7EyLK",
        "outputId": "1038c3a7-8cdc-495c-917c-678d67d5611f"
      },
      "outputs": [
        {
          "name": "stdout",
          "output_type": "stream",
          "text": [
            "Yes (327, 200, 125, 3)\n",
            "No (2868, 200, 125, 3)\n"
          ]
        }
      ],
      "source": [
        "for k, v in data.items():\n",
        "  print(k, v.shape)"
      ]
    },
    {
      "cell_type": "code",
      "execution_count": 35,
      "metadata": {
        "id": "7IlinlmnEOFg"
      },
      "outputs": [],
      "source": [
        "data[\"Yes\"] = np.array(data[\"Yes\"])"
      ]
    },
    {
      "cell_type": "code",
      "execution_count": 36,
      "metadata": {
        "colab": {
          "base_uri": "https://localhost:8080/"
        },
        "id": "NRnGjymFEZpe",
        "outputId": "05ea2f0d-3f61-4fc9-c84e-8e07929cce9c"
      },
      "outputs": [
        {
          "data": {
            "text/plain": [
              "(327, 200, 125, 3)"
            ]
          },
          "execution_count": 36,
          "metadata": {},
          "output_type": "execute_result"
        }
      ],
      "source": [
        "data[\"Yes\"].shape"
      ]
    },
    {
      "cell_type": "code",
      "execution_count": 27,
      "metadata": {
        "colab": {
          "base_uri": "https://localhost:8080/"
        },
        "id": "8EHY9NjsbAsV",
        "outputId": "36c4a266-405b-413f-a867-6fbd836678db"
      },
      "outputs": [
        {
          "name": "stderr",
          "output_type": "stream",
          "text": [
            "3195it [00:47, 67.23it/s]\n"
          ]
        }
      ],
      "source": [
        "model_name = \"Eye_OuterCorner_Dark\"\n",
        "resize_images_for_model(model_name, (125, 200))"
      ]
    },
    {
      "cell_type": "code",
      "execution_count": null,
      "metadata": {
        "colab": {
          "base_uri": "https://localhost:8080/",
          "height": 281
        },
        "id": "EWCesXj8XxFW",
        "outputId": "265b747c-fb2c-409e-a0a1-dddc99ef4fb6"
      },
      "outputs": [
        {
          "data": {
            "image/png": "[encoded data removed]",
            "text/plain": [
              "<Figure size 432x288 with 2 Axes>"
            ]
          },
          "metadata": {
            "needs_background": "light"
          },
          "output_type": "display_data"
        }
      ],
      "source": [
        "draw_histogram(widths, heights)"
      ]
    },
    {
      "cell_type": "code",
      "execution_count": null,
      "metadata": {
        "colab": {
          "base_uri": "https://localhost:8080/"
        },
        "id": "nYqHvQYvmRwx",
        "outputId": "fcf5dd0f-c776-4e83-8d55-a2f753b50a17"
      },
      "outputs": [
        {
          "name": "stdout",
          "output_type": "stream",
          "text": [
            "2889\n",
            "328\n"
          ]
        }
      ],
      "source": [
        "json_path = \"/content/LabelsProcessed/Eye_OuterCorner_Dark/No.json\"\n",
        "\n",
        "with open(json_path) as f:\n",
        "  objects = json.load(f)\n",
        "\n",
        "a = [k for k in list(objects.keys())]\n",
        "print(len(a))\n",
        "\n",
        "json_path = \"/content/LabelsProcessed/Eye_OuterCorner_Dark/Yes.json\"\n",
        "\n",
        "with open(json_path) as f:\n",
        "  objects = json.load(f)\n",
        "\n",
        "a = [k for k in list(objects.keys())]\n",
        "print(len(a))"
      ]
    },
    {
      "cell_type": "code",
      "execution_count": 41,
      "metadata": {
        "colab": {
          "base_uri": "https://localhost:8080/"
        },
        "id": "Bx8UbdUjGepy",
        "outputId": "44b9bf4c-e066-464e-eeae-d603827d7e74"
      },
      "outputs": [
        {
          "name": "stdout",
          "output_type": "stream",
          "text": [
            "updating: utils/ (stored 0%)\n",
            "updating: utils/__pycache__/ (stored 0%)\n",
            "updating: utils/__pycache__/helper_func.cpython-37.pyc (deflated 41%)\n",
            "updating: utils/__pycache__/cropping.cpython-37.pyc (deflated 40%)\n",
            "updating: utils/__pycache__/label_validator.cpython-37.pyc (deflated 54%)\n",
            "updating: utils/__pycache__/__init__.cpython-37.pyc (deflated 26%)\n",
            "updating: utils/__pycache__/constants.cpython-37.pyc (deflated 33%)\n",
            "updating: utils/helper_func.py (deflated 61%)\n",
            "updating: utils/local_config.json (deflated 26%)\n",
            "updating: utils/label_validator.py (deflated 72%)\n",
            "updating: utils/.ipynb_checkpoints/ (stored 0%)\n",
            "updating: utils/__init__.py (stored 0%)\n",
            "updating: utils/constants.py (deflated 54%)\n",
            "updating: utils/cropping.py (deflated 70%)\n"
          ]
        }
      ],
      "source": [
        "!zip utils.zip utils -r"
      ]
    }
  ],
  "metadata": {
    "colab": {
      "collapsed_sections": [],
      "provenance": []
    },
    "kernelspec": {
      "display_name": "Python 3.9.6 ('.env': venv)",
      "language": "python",
      "name": "python3"
    },
    "language_info": {
      "codemirror_mode": {
        "name": "ipython",
        "version": 3
      },
      "file_extension": ".py",
      "mimetype": "text/x-python",
      "name": "python",
      "nbconvert_exporter": "python",
      "pygments_lexer": "ipython3",
      "version": "3.9.6"
    },
    "vscode": {
      "interpreter": {
        "hash": "0a379348662d524839066cf1b51864132f97ee149e4bc2824e2a8a75a0a12c55"
      }
    }
  },
  "nbformat": 4,
  "nbformat_minor": 0
}
