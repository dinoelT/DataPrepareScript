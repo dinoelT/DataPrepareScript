{
  "cells": [
    {
      "cell_type": "code",
      "execution_count": 1,
      "metadata": {},
      "outputs": [],
      "source": [
        "import os, json\n",
        "# from typing_extensions import Literal\n",
        "from typing import Literal\n",
        "from typing import List, Dict\n",
        "from collections import Counter\n",
        "\n",
        "def save_json(data, path):\n",
        "    with open(path, \"w\") as f:\n",
        "        json.dump(data, f, indent =4)\n",
        "\n",
        "def load_json(path, default = None):\n",
        "    if not os.path.exists(path):\n",
        "        if default == None:\n",
        "            raise ValueError(f\"The '{path}' path does not exist\")\n",
        "        return default\n",
        "\n",
        "    with open(path) as f:\n",
        "        data = json.load(f)\n",
        "    return data\n",
        "\n",
        "\n",
        "\n",
        "def decide_by_frequency(face_labels: List[Dict]):\n",
        "    all_features = {k for o in face_labels for k in list(o.keys())}\n",
        "\n",
        "    decided = {}\n",
        "    for feature in all_features:\n",
        "        labels = [o.get(feature) for o in face_labels]\n",
        "        most_common = Counter(filter(lambda x: x in (\"Yes\", \"No\", \"Undef\"), labels)).most_common()\n",
        "\n",
        "        # most_common = [('Yes', 2), ('No', 1)]\n",
        "        if len(most_common) == 0:\n",
        "            continue\n",
        "        elif len(most_common) == 1:\n",
        "            decided[feature] = most_common[0][0]\n",
        "        else:\n",
        "            # Check if the experts are disagreeing\n",
        "            if most_common[0][1] > most_common[1][1]:\n",
        "                decided[feature] = most_common[0][0]\n",
        "    return decided\n",
        "\n",
        "\n",
        "def decide_on_labels(original_labels):\n",
        "    grouped_labels = {}\n",
        "\n",
        "    #group by image_name\n",
        "    for obj in original_labels:\n",
        "        image_name = obj[\"image_name\"]\n",
        "        grouped_labels[image_name] = grouped_labels.get(image_name, []) + [obj]\n",
        "\n",
        "    decided_labels = {}\n",
        "    for image_name, multilabels in grouped_labels.items():\n",
        "        decided_labels[image_name] = {\n",
        "            \"image_name\": image_name,\n",
        "            \"bounding_boxes\": multilabels[0][\"bounding_boxes\"],\n",
        "            \"face_labels\": decide_by_frequency([el[\"face_labels\"] for el in multilabels])\n",
        "        }\n",
        "\n",
        "    return decided_labels\n",
        "\n"
      ]
    },
    {
      "cell_type": "code",
      "execution_count": 17,
      "metadata": {},
      "outputs": [],
      "source": [
        "mappings = load_json(\"info.json\")"
      ]
    },
    {
      "cell_type": "code",
      "execution_count": 3,
      "metadata": {},
      "outputs": [
        {
          "data": {
            "text/plain": [
              "dict_keys(['FEATURE_TO_MODEL', 'FEATURE_TO_BOUNDING_BOX', 'LABELED_IMAGES', 'MODELS_TO_FEATURES'])"
            ]
          },
          "execution_count": 3,
          "metadata": {},
          "output_type": "execute_result"
        }
      ],
      "source": [
        "mappings.keys()"
      ]
    },
    {
      "cell_type": "code",
      "execution_count": 18,
      "metadata": {},
      "outputs": [],
      "source": [
        "FEATURE_TO_MODEL = mappings[\"FEATURE_TO_MODEL\"]\n",
        "FEATURE_TO_BOUNDING_BOX = mappings[\"FEATURE_TO_BOUNDING_BOX\"]\n",
        "MODELS_TO_FEATURES = mappings[\"MODELS_TO_FEATURES\"]"
      ]
    },
    {
      "cell_type": "code",
      "execution_count": 16,
      "metadata": {},
      "outputs": [
        {
          "data": {
            "text/plain": [
              "[{'MouthRight_Corner_Red': 'MouthRight_Corner',\n",
              "  'MouthLeft_Corner_Red': 'MouthLeft_Corner',\n",
              "  'MouthLower_Lip_BrightLine': 'MouthLower_Lip',\n",
              "  'EyeRight_UpperLid_Droopy': 'EyeRight_UpperLid',\n",
              "  'EyeLeft_UpperLid_Droopy': 'EyeLeft_UpperLid',\n",
              "  'EyeRight_Lower_Tearsack': 'EyeRight_Lower',\n",
              "  'EyeLeft_Lower_Tearsack': 'EyeLeft_Lower',\n",
              "  'EyeLeft_Lower_Pale': 'EyeLeft_Lower',\n",
              "  'EyeRight_Lower_Pale': 'EyeRight_Lower',\n",
              "  'MouthWhole_Around_BrownYellow': 'MouthWhole_Around',\n",
              "  'CheekLeft_Whole_Red': 'CheekLeft_Whole',\n",
              "  'CheekRight_Whole_Red': 'CheekRight_Whole',\n",
              "  'MouthWhole_Lips_Smooth': 'MouthWhole_Lips',\n",
              "  'EyeLeft_InnerCorner_Bright': 'EyeLeft_InnerCorner',\n",
              "  'EyeRight_InnerCorner_Bright': 'EyeRight_InnerCorner',\n",
              "  'EyeRight_Lower_Dark': 'EyeRight_Lower',\n",
              "  'EyeLeft_Lower_Dark': 'EyeLeft_Lower',\n",
              "  'MouthRight_Corner_Cracked': 'MouthRight_Corner',\n",
              "  'MouthLeft_Corner_Cracked': 'MouthLeft_Corner',\n",
              "  'MouthUpper_UnderLip_VerticalWrinkles': 'MouthUpper_UnderLip',\n",
              "  'EyeRight_NasalRoot_Dark': 'EyeRight_NasalRoot',\n",
              "  'EyeLeft_NasalRoot_Dark': 'EyeLeft_NasalRoot',\n",
              "  'EyeLeft_InnerCorner_BrightDot': 'EyeLeft_InnerCorner',\n",
              "  'EyeRight_InnerCorner_BrightDot': 'EyeRight_InnerCorner',\n",
              "  'TempleLeft_Whole_Dented': 'TempleLeft_Whole',\n",
              "  'TempleRight_Whole_Dented': 'TempleRight_Whole',\n",
              "  'MouthUpper_Pallium_VerticalWrinkles': 'MouthUpper_Pallium',\n",
              "  'MouthUpper_Lip_BrightLine': 'MouthUpper_Lip',\n",
              "  'MouthUpper_Pallium_Red': 'MouthUpper_Pallium',\n",
              "  'MouthLower_UnderLip_Swollen': 'MouthLower_UnderLip',\n",
              "  'MouthWhole_Lips_AlteredStructure': 'MouthWhole_Lips',\n",
              "  'EyeRight_Whole_Protruding': 'EyeRight_Whole',\n",
              "  'EyeLeft_Whole_Protruding': 'EyeLeft_Whole',\n",
              "  'ChinWhole_Tip_Red': 'ChinWhole_Tip',\n",
              "  'EyeRight_OuterCorner_Dark': 'EyeRight_OuterCorner',\n",
              "  'EyeLeft_OuterCorner_Dark': 'EyeLeft_OuterCorner',\n",
              "  'ChinWhole_Tip_Dimples': 'ChinWhole_Tip',\n",
              "  'ForeheadCenter_Lower_VerticalWrinkles': 'ForeheadCenter_Lower',\n",
              "  'MouthUpper_Pallium_Dark': 'MouthUpper_Pallium'}]"
            ]
          },
          "execution_count": 16,
          "metadata": {},
          "output_type": "execute_result"
        }
      ],
      "source": [
        "FEATURE_TO_BOUNDING_BOX"
      ]
    },
    {
      "cell_type": "code",
      "execution_count": 19,
      "metadata": {},
      "outputs": [],
      "source": [
        "obj = {\n",
        "    \"img1.jpg\": {\n",
        "        \"image_name\": \"in_001382_male_21_InGlasses0.jpg\",\n",
        "        \"bounding_boxes\": {\n",
        "            \"Mouth_Whole\": {\n",
        "                \"top_left\": {\n",
        "                    \"x\": 1174,\n",
        "                    \"y\": 3038\n",
        "                },\n",
        "                \"bottom_right\": {\n",
        "                    \"x\": 2153,\n",
        "                    \"y\": 3629\n",
        "                }\n",
        "            }\n",
        "        },\n",
        "        \"face_labels\": {\n",
        "            \"EyeLeft_Lower_Tearsack\": \"Yes\",\n",
        "            \"CheekLeft_Whole_Red\": \"No\",\n",
        "            \"MouthRight_Corner_Red\": \"No\",\n",
        "            \"EyeLeft_UpperLid_Droopy\": \"No\",\n",
        "            \"MouthUpper_UnderLip_VerticalWrinkles\": \"No\",\n",
        "            \"EyeRight_Lower_Pale\": \"No\",\n",
        "            \"MouthRight_Corner_Cracked\": \"No\",\n",
        "            \"EyeLeft_Whole_Protruding\": \"No\",\n",
        "        }\n",
        "    }\n",
        "}\n",
        "\n",
        "from deepdiff import DeepDiff\n",
        "from copy import deepcopy\n",
        "from deepdiff.helper import NotPresent"
      ]
    },
    {
      "cell_type": "code",
      "execution_count": 20,
      "metadata": {},
      "outputs": [
        {
          "name": "stdout",
          "output_type": "stream",
          "text": [
            "Modified bounding box\n",
            "Modified feature\n",
            "Added bounding box\n",
            "New feature\n",
            "\t image_name = img1.jpg\n",
            "\t feature_name = EyeRight_Lower_Tearsack\n",
            "\t model_name = Eye_Lower_Tearsack\n",
            "\t bounding_box = EyeRight_Lower\n",
            "\n"
          ]
        }
      ],
      "source": [
        "def new_feature(path):\n",
        "    image_name = path[0]\n",
        "    feature_name = path[-1]\n",
        "    model_name = FEATURE_TO_MODEL[feature_name]\n",
        "    bounding_box = FEATURE_TO_BOUNDING_BOX[feature_name]\n",
        "    print(\"New feature\")\n",
        "    print(f\"\\t image_name = {image_name}\")\n",
        "    print(f\"\\t feature_name = {feature_name}\")\n",
        "    print(f\"\\t model_name = {model_name}\")\n",
        "    print(f\"\\t bounding_box = {bounding_box}\")\n",
        "    print()\n",
        "\n",
        "def modified_feature(path):\n",
        "    print(\"Modified feature\")\n",
        "    image_name = path[0]\n",
        "    feature_name = path[-1]\n",
        "    model_name = FEATURE_TO_MODEL[feature_name]\n",
        "    bounding_box = FEATURE_TO_BOUNDING_BOX[feature_name]\n",
        "    print(\"New feature\")\n",
        "    print(f\"\\t image_name = {image_name}\")\n",
        "    print(f\"\\t feature_name = {feature_name}\")\n",
        "    print(f\"\\t model_name = {model_name}\")\n",
        "    print(f\"\\t bounding_box = {bounding_box}\")\n",
        "    print()\n",
        "\n",
        "\n",
        "def modified_bounding_box(path):\n",
        "    print(\"Modified bounding box\")\n",
        "\n",
        "def added_bounding_box(path):\n",
        "    print(\"Added bounding box\")\n",
        "\n",
        "def changes_analyser(diff):\n",
        "    for change_type, list_of_changes in diff.items():\n",
        "        for change in list_of_changes:\n",
        "            #dictionary_item_added\n",
        "            path = change.path(output_format=\"list\")\n",
        "\n",
        "            if path[1] == \"face_labels\":\n",
        "                if change_type == \"dictionary_item_added\":\n",
        "                    new_feature(path)\n",
        "                elif change_type == \"values_changed\":\n",
        "                    modified_feature(path)\n",
        "            elif path[1] == \"bounding_boxes\":\n",
        "                if change_type == \"dictionary_item_added\":\n",
        "                    added_bounding_box(path)\n",
        "                elif change_type == \"values_changed\":\n",
        "                    modified_bounding_box(path)\n",
        "            else:\n",
        "                raise Exception(\"Object change was not caught\")\n",
        "\n",
        "\n",
        "objs1 = deepcopy(obj)\n",
        "objs2 = deepcopy(obj)\n",
        "\n",
        "new_bb = {\n",
        "    \"top_left\": {\n",
        "        \"x\": 1174,\n",
        "        \"y\": 3038\n",
        "    },\n",
        "    \"bottom_right\": {\n",
        "        \"x\": 2153,\n",
        "        \"y\": 3629\n",
        "    }\n",
        "}\n",
        "\n",
        "# Add feature\n",
        "objs2[\"img1.jpg\"][\"face_labels\"][\"EyeRight_Lower_Tearsack\"] = \"Yes\"\n",
        "# Modify feature\n",
        "objs2[\"img1.jpg\"][\"face_labels\"][\"CheekLeft_Whole_Red\"] = \"Yes\"\n",
        "# Add bounding box\n",
        "objs2[\"img1.jpg\"][\"bounding_boxes\"][\"Mouth_Partial\"] = new_bb\n",
        "# Modify bounding box\n",
        "objs2[\"img1.jpg\"][\"bounding_boxes\"][\"Mouth_Whole\"][\"top_left\"][\"x\"] = 2000\n",
        "del objs2[\"img1.jpg\"][\"face_labels\"][\"MouthRight_Corner_Cracked\"]\n",
        "diff = DeepDiff(objs1, objs2, view=\"tree\")\n",
        "changes_analyser(diff)\n",
        "\n"
      ]
    },
    {
      "cell_type": "code",
      "execution_count": 24,
      "metadata": {},
      "outputs": [],
      "source": [
        "el = diff[\"values_changed\"][0]"
      ]
    },
    {
      "cell_type": "code",
      "execution_count": 26,
      "metadata": {},
      "outputs": [
        {
          "data": {
            "text/plain": [
              "<root t1:{'img1.jpg':...}, t2:{'img1.jpg':...}>"
            ]
          },
          "execution_count": 26,
          "metadata": {},
          "output_type": "execute_result"
        }
      ],
      "source": [
        "el.all_up."
      ]
    },
    {
      "cell_type": "code",
      "execution_count": 13,
      "metadata": {},
      "outputs": [
        {
          "data": {
            "text/plain": [
              "{'MouthRight_Corner_Red': 'Mouth_Corner_Red',\n",
              " 'MouthLeft_Corner_Red': 'Mouth_Corner_Red',\n",
              " 'MouthLower_Lip_BrightLine': 'MouthLower_Lip_BrightLine',\n",
              " 'EyeRight_UpperLid_Droopy': 'Eye_UpperLid_Droopy',\n",
              " 'EyeLeft_UpperLid_Droopy': 'Eye_UpperLid_Droopy',\n",
              " 'EyeRight_Lower_Tearsack': 'Eye_Lower_Tearsack',\n",
              " 'EyeLeft_Lower_Tearsack': 'Eye_Lower_Tearsack',\n",
              " 'EyeLeft_Lower_Pale': 'Eye_Lower_Pale',\n",
              " 'EyeRight_Lower_Pale': 'Eye_Lower_Pale',\n",
              " 'MouthWhole_Around_BrownYellow': 'MouthWhole_Around_BrownYellow',\n",
              " 'CheekLeft_Whole_Red': 'Cheek_Whole_Red',\n",
              " 'CheekRight_Whole_Red': 'Cheek_Whole_Red',\n",
              " 'MouthWhole_Lips_Smooth': 'MouthWhole_Lips_Smooth',\n",
              " 'EyeLeft_InnerCorner_Bright': 'Eye_InnerCorner_Bright',\n",
              " 'EyeRight_InnerCorner_Bright': 'Eye_InnerCorner_Bright',\n",
              " 'EyeRight_Lower_Dark': 'Eye_Lower_Dark',\n",
              " 'EyeLeft_Lower_Dark': 'Eye_Lower_Dark',\n",
              " 'MouthRight_Corner_Cracked': 'Mouth_Corner_Cracked',\n",
              " 'MouthLeft_Corner_Cracked': 'Mouth_Corner_Cracked',\n",
              " 'MouthUpper_UnderLip_VerticalWrinkles': 'MouthUpper_UnderLip_VerticalWrinkles',\n",
              " 'EyeRight_NasalRoot_Dark': 'Eye_NasalRoot_Dark',\n",
              " 'EyeLeft_NasalRoot_Dark': 'Eye_NasalRoot_Dark',\n",
              " 'EyeLeft_InnerCorner_BrightDot': 'Eye_InnerCorner_BrightDot',\n",
              " 'EyeRight_InnerCorner_BrightDot': 'Eye_InnerCorner_BrightDot',\n",
              " 'TempleLeft_Whole_Dented': 'Temple_Whole_Dented',\n",
              " 'TempleRight_Whole_Dented': 'Temple_Whole_Dented',\n",
              " 'MouthUpper_Pallium_VerticalWrinkles': 'MouthUpper_Pallium_VerticalWrinkles',\n",
              " 'MouthUpper_Lip_BrightLine': 'MouthUpper_Lip_BrightLine',\n",
              " 'MouthUpper_Pallium_Red': 'MouthUpper_Pallium_Red',\n",
              " 'MouthLower_UnderLip_Swollen': 'MouthLower_UnderLip_Swollen',\n",
              " 'MouthWhole_Lips_AlteredStructure': 'MouthWhole_Lips_AlteredStructure',\n",
              " 'EyeRight_Whole_Protruding': 'Eye_Whole_Protruding',\n",
              " 'EyeLeft_Whole_Protruding': 'Eye_Whole_Protruding',\n",
              " 'ChinWhole_Tip_Red': 'ChinWhole_Tip_Red',\n",
              " 'EyeRight_OuterCorner_Dark': 'Eye_OuterCorner_Dark',\n",
              " 'EyeLeft_OuterCorner_Dark': 'Eye_OuterCorner_Dark',\n",
              " 'ChinWhole_Tip_Dimples': 'ChinWhole_Tip_Dimples',\n",
              " 'ForeheadCenter_Lower_VerticalWrinkles': 'ForeheadCenter_Lower_VerticalWrinkles',\n",
              " 'MouthUpper_Pallium_Dark': 'MouthUpper_Pallium_Dark'}"
            ]
          },
          "execution_count": 13,
          "metadata": {},
          "output_type": "execute_result"
        }
      ],
      "source": [
        "FEATURE_TO_MODEL"
      ]
    },
    {
      "cell_type": "markdown",
      "metadata": {},
      "source": [
        "Types of changes:\n",
        "\n",
        "1) Added label for feature\n",
        "    We need to find the parameters:\n",
        "        1) image name\n",
        "        2) bounding box value for the feature\n",
        "        3) value(Yes, No)\n",
        "\n",
        "        Pass all the parameters to a function that will:\n",
        "            a) Crop the original image\n",
        "            b) Rotate and crop other images\n",
        "\n",
        "2) Modified label for feature\n",
        "    Yes, No, Undef => Remove from old, if old = [Yes or No] and add to new if new = [Yes or No]\n",
        "\n",
        "3) Modified bounding box\n",
        "    We need to find the parameters:\n",
        "        1) bounding_box name\n",
        "        2) model name that corresponds to the bounding box\n",
        "        3) image_name\n",
        "        3) feature_name\n",
        "\n",
        "        Pass all the parameters to a function that will:\n",
        "            a) Remove old cropped images(original and rotated)\n",
        "            b) Crop again and add to the model folders for all models that use this bounding box\n",
        "\n",
        "<!-- 4) Added bounding box\n",
        "    We need to find the parameters:\n",
        "        1) bounding_box name\n",
        "        2) model name that corresponds to the bounding box\n",
        "        3) image_name\n",
        "        3) feature_name\n",
        "\n",
        "        Pass all the parameters to a function that will:\n",
        "            a) Remove old cropped images(original and rotated)\n",
        "            b) Crop again and add to the model folders for all models that use this bounding box -->\n",
        "\n"
      ]
    },
    {
      "cell_type": "code",
      "execution_count": 4,
      "metadata": {},
      "outputs": [],
      "source": [
        "labels = load_json(\"ImageLabels.json\")\n",
        "decided = decide_on_labels(labels)\n",
        "\n"
      ]
    },
    {
      "cell_type": "code",
      "execution_count": 5,
      "metadata": {},
      "outputs": [],
      "source": [
        "old_decided = load_json(\"DecidedLabels.json\", {}, )\n"
      ]
    },
    {
      "cell_type": "code",
      "execution_count": 10,
      "metadata": {},
      "outputs": [],
      "source": [
        "from deepdiff import DeepDiff\n",
        "\n",
        "diff = DeepDiff(old_decided, decided, ignore_order=True)\n"
      ]
    },
    {
      "cell_type": "code",
      "execution_count": 17,
      "metadata": {},
      "outputs": [
        {
          "data": {
            "text/plain": [
              "\"root['in_001382_male_21_InGlasses0.jpg']\""
            ]
          },
          "execution_count": 17,
          "metadata": {},
          "output_type": "execute_result"
        }
      ],
      "source": [
        "added = diff.get(\"dictionary_item_added\")\n",
        "\n",
        "added[0]\n",
        "\n",
        "\n",
        "\n"
      ]
    },
    {
      "cell_type": "code",
      "execution_count": null,
      "metadata": {},
      "outputs": [],
      "source": [
        "read_j"
      ]
    },
    {
      "cell_type": "code",
      "execution_count": 19,
      "metadata": {},
      "outputs": [],
      "source": [
        "i = 0\n",
        "n = {}\n",
        "for k, v in decided.items():\n",
        "    n[k] = v\n",
        "    i += 1\n",
        "    if i == 3:\n",
        "        break\n",
        "save_json(n, \"t.json\")"
      ]
    },
    {
      "cell_type": "code",
      "execution_count": 45,
      "metadata": {},
      "outputs": [
        {
          "name": "stdout",
          "output_type": "stream",
          "text": [
            "bounding_boxes dictionary_item_added\n",
            "\tOld: not present\n",
            "\tnew: {'top_left': {'x': 1174, 'y': 3038}, 'bottom_right': {'x': 2153, 'y': 3629}}\n",
            "face_labels dictionary_item_added\n",
            "True\n",
            "\tOld: not present\n",
            "\tnew: Yes\n",
            "face_labels dictionary_item_removed\n",
            "False\n",
            "\tOld: No\n",
            "\tnew: not present\n",
            "bounding_boxes values_changed\n",
            "\tOld: 1174\n",
            "\tnew: 2000\n",
            "face_labels values_changed\n",
            "False\n",
            "\tOld: No\n",
            "\tnew: Yes\n"
          ]
        }
      ],
      "source": []
    },
    {
      "cell_type": "code",
      "execution_count": null,
      "metadata": {},
      "outputs": [],
      "source": []
    },
    {
      "cell_type": "code",
      "execution_count": 6,
      "metadata": {},
      "outputs": [],
      "source": [
        "change = diff[\"dictionary_item_added\"][0]"
      ]
    },
    {
      "cell_type": "code",
      "execution_count": 9,
      "metadata": {},
      "outputs": [
        {
          "data": {
            "text/plain": [
              "<root['img1.jpg']['face_labels']['new_bb'] t1:not present, t2:'Yes'>"
            ]
          },
          "execution_count": 9,
          "metadata": {},
          "output_type": "execute_result"
        }
      ],
      "source": [
        "change.all_down"
      ]
    },
    {
      "cell_type": "code",
      "execution_count": 21,
      "metadata": {},
      "outputs": [
        {
          "data": {
            "text/plain": [
              "['img1.jpg', 'face_labels', 'new_bb']"
            ]
          },
          "execution_count": 21,
          "metadata": {},
          "output_type": "execute_result"
        }
      ],
      "source": [
        "path = change.path(output_format=\"list\")\n",
        "\n",
        "if path[1] == \"face_labels\":\n",
        "    print(\"FaceLabels\", f\"old: {}\", end=\"\")\n",
        "elif path[1] == \"bounding_boxes\":\n",
        "    print(\"BoundingBoxes\", end=\"\")\n"
      ]
    },
    {
      "cell_type": "code",
      "execution_count": null,
      "metadata": {},
      "outputs": [],
      "source": []
    },
    {
      "cell_type": "code",
      "execution_count": 27,
      "metadata": {},
      "outputs": [],
      "source": [
        "a = diff[\"dictionary_item_added\"][0]"
      ]
    },
    {
      "cell_type": "code",
      "execution_count": 30,
      "metadata": {},
      "outputs": [
        {
          "data": {
            "text/plain": [
              "{'EyeLeft_Lower_Tearsack': 'Yes',\n",
              " 'CheekLeft_Whole_Red': 'No',\n",
              " 'MouthRight_Corner_Red': 'No',\n",
              " 'EyeLeft_UpperLid_Droopy': 'No',\n",
              " 'MouthUpper_UnderLip_VerticalWrinkles': 'No',\n",
              " 'EyeRight_Lower_Pale': 'No',\n",
              " 'MouthRight_Corner_Cracked': 'No',\n",
              " 'EyeLeft_Whole_Protruding': 'No',\n",
              " 'EyeRight_Lower_Tearsack': 'No'}"
            ]
          },
          "execution_count": 30,
          "metadata": {},
          "output_type": "execute_result"
        }
      ],
      "source": [
        "a.up.t1\n",
        "\n"
      ]
    },
    {
      "cell_type": "code",
      "execution_count": null,
      "metadata": {},
      "outputs": [],
      "source": []
    },
    {
      "cell_type": "code",
      "execution_count": 42,
      "metadata": {},
      "outputs": [
        {
          "data": {
            "text/plain": [
              "{}"
            ]
          },
          "execution_count": 42,
          "metadata": {},
          "output_type": "execute_result"
        }
      ],
      "source": [
        "old_decided\n"
      ]
    },
    {
      "cell_type": "code",
      "execution_count": 39,
      "metadata": {},
      "outputs": [
        {
          "data": {
            "text/plain": [
              "(4782, 5232)"
            ]
          },
          "execution_count": 39,
          "metadata": {},
          "output_type": "execute_result"
        }
      ],
      "source": [
        "len(decided),len(labels)\n"
      ]
    },
    {
      "cell_type": "code",
      "execution_count": 36,
      "metadata": {},
      "outputs": [
        {
          "ename": "ModuleNotFoundError",
          "evalue": "No module named 'deepdiff'",
          "output_type": "error",
          "traceback": [
            "\u001b[1;31m---------------------------------------------------------------------------\u001b[0m",
            "\u001b[1;31mModuleNotFoundError\u001b[0m                       Traceback (most recent call last)",
            "\u001b[1;32mc:\\Users\\LeonidTanas\\source\\BiogenaProject\\ModelsTrainingScript\\UpdatingGood.ipynb Cell 3\u001b[0m in \u001b[0;36m<module>\u001b[1;34m\u001b[0m\n\u001b[1;32m----> <a href='vscode-notebook-cell:/c%3A/Users/LeonidTanas/source/BiogenaProject/ModelsTrainingScript/UpdatingGood.ipynb#Y101sZmlsZQ%3D%3D?line=0'>1</a>\u001b[0m \u001b[39mfrom\u001b[39;00m \u001b[39mdeepdiff\u001b[39;00m \u001b[39mimport\u001b[39;00m DeepDiff\n",
            "\u001b[1;31mModuleNotFoundError\u001b[0m: No module named 'deepdiff'"
          ]
        }
      ],
      "source": []
    },
    {
      "cell_type": "code",
      "execution_count": 22,
      "metadata": {},
      "outputs": [
        {
          "data": {
            "text/plain": [
              "[('a', 2), ('b', 1)]"
            ]
          },
          "execution_count": 22,
          "metadata": {},
          "output_type": "execute_result"
        }
      ],
      "source": []
    },
    {
      "cell_type": "code",
      "execution_count": 27,
      "metadata": {},
      "outputs": [
        {
          "data": {
            "text/plain": [
              "{'EyeLeft_InnerCorner_Bright': 'No',\n",
              " 'EyeLeft_OuterCorner_Dark': 'No',\n",
              " 'EyeRight_InnerCorner_BrightDot': 'No',\n",
              " 'EyeLeft_NasalRoot_Dark': 'Yes',\n",
              " 'EyeRight_OuterCorner_Dark': 'No',\n",
              " 'EyeLeft_InnerCorner_BrightDot': 'No',\n",
              " 'EyeRight_NasalRoot_Dark': 'No'}"
            ]
          },
          "execution_count": 27,
          "metadata": {},
          "output_type": "execute_result"
        }
      ],
      "source": [
        "count_frequency(\n",
        "[\n",
        "{\n",
        "            \"EyeLeft_NasalRoot_Dark\": \"Yes\",\n",
        "            \"EyeRight_NasalRoot_Dark\": \"No\",\n",
        "            \"EyeLeft_OuterCorner_Dark\": \"No\",\n",
        "            \"EyeRight_OuterCorner_Dark\": \"No\",\n",
        "            \"EyeLeft_InnerCorner_BrightDot\": \"No\",\n",
        "            \"EyeRight_InnerCorner_BrightDot\": \"No\",\n",
        "            \"EyeLeft_InnerCorner_Bright\": \"No\",\n",
        "        },\n",
        "{\n",
        "            \"EyeLeft_NasalRoot_Dark\": \"Yes\",\n",
        "            \"EyeRight_NasalRoot_Dark\": \"No\",\n",
        "            \"EyeLeft_OuterCorner_Dark\": \"No\",\n",
        "        },\n",
        "{\n",
        "            \"EyeLeft_NasalRoot_Dark\": \"No\",\n",
        "            \"EyeRight_NasalRoot_Dark\": \"No\",\n",
        "            \"EyeLeft_OuterCorner_Dark\": \"No\",\n",
        "        },\n",
        "]\n",
        "\n",
        ")"
      ]
    },
    {
      "cell_type": "code",
      "execution_count": 9,
      "metadata": {},
      "outputs": [
        {
          "data": {
            "text/plain": [
              "{'1b1dcbfe-741d-4dac-ad39-c8bbf46f55de_ACQ.png': [{'bounding_boxes': {'Mouth_Whole': {'top_left': {'x': 778,\n",
              "      'y': 1860},\n",
              "     'bottom_right': {'x': 1332, 'y': 2107}},\n",
              "    'ForeheadCenter_Lower': {'top_left': {'x': 927, 'y': 833},\n",
              "     'bottom_right': {'x': 1154, 'y': 1351}},\n",
              "    'EyeLeft_Whole': {'top_left': {'x': 626, 'y': 1100},\n",
              "     'bottom_right': {'x': 921, 'y': 1365}},\n",
              "    'EyeRight_Whole': {'top_left': {'x': 1172, 'y': 1064},\n",
              "     'bottom_right': {'x': 1488, 'y': 1355}},\n",
              "    'EyeLeft_InnerCorner': {'top_left': {'x': 852, 'y': 1178},\n",
              "     'bottom_right': {'x': 961, 'y': 1323}},\n",
              "    'EyeRight_InnerCorner': {'top_left': {'x': 1130, 'y': 1158},\n",
              "     'bottom_right': {'x': 1248, 'y': 1313}},\n",
              "    'EyeLeft_OuterCorner': {'top_left': {'x': 576, 'y': 1168},\n",
              "     'bottom_right': {'x': 658, 'y': 1332}},\n",
              "    'EyeRight_OuterCorner': {'top_left': {'x': 1440, 'y': 1152},\n",
              "     'bottom_right': {'x': 1548, 'y': 1324}},\n",
              "    'EyeLeft_NasalRoot': {'top_left': {'x': 932, 'y': 1235},\n",
              "     'bottom_right': {'x': 980, 'y': 1365}},\n",
              "    'EyeRight_NasalRoot': {'top_left': {'x': 1108, 'y': 1214},\n",
              "     'bottom_right': {'x': 1170, 'y': 1356}},\n",
              "    'EyeLeft_UpperLid': {'top_left': {'x': 639, 'y': 1057},\n",
              "     'bottom_right': {'x': 893, 'y': 1201}},\n",
              "    'EyeRight_UpperLid': {'top_left': {'x': 1193, 'y': 993},\n",
              "     'bottom_right': {'x': 1461, 'y': 1196}},\n",
              "    'EyeLeft_LowerLid': {'top_left': {'x': 651, 'y': 1312},\n",
              "     'bottom_right': {'x': 864, 'y': 1392}},\n",
              "    'EyeRight_LowerLid': {'top_left': {'x': 1235, 'y': 1302},\n",
              "     'bottom_right': {'x': 1463, 'y': 1383}},\n",
              "    'EyeLeft_Lower': {'top_left': {'x': 651, 'y': 1365},\n",
              "     'bottom_right': {'x': 921, 'y': 1524}},\n",
              "    'EyeRight_Lower': {'top_left': {'x': 1179, 'y': 1356},\n",
              "     'bottom_right': {'x': 1463, 'y': 1518}},\n",
              "    'MouthLeft_Corner': {'top_left': {'x': 778, 'y': 1938},\n",
              "     'bottom_right': {'x': 903, 'y': 2021}},\n",
              "    'MouthRight_Corner': {'top_left': {'x': 1199, 'y': 1931},\n",
              "     'bottom_right': {'x': 1332, 'y': 2018}},\n",
              "    'MouthUpper_Pallium': {'top_left': {'x': 944, 'y': 1689},\n",
              "     'bottom_right': {'x': 1164, 'y': 1983}},\n",
              "    'MouthUpper_Lip': {'top_left': {'x': 909, 'y': 1891},\n",
              "     'bottom_right': {'x': 1192, 'y': 1991}},\n",
              "    'MouthLower_Lip': {'top_left': {'x': 904, 'y': 1921},\n",
              "     'bottom_right': {'x': 1196, 'y': 2076}},\n",
              "    'MouthLower_UnderLip': {'top_left': {'x': 904, 'y': 2030},\n",
              "     'bottom_right': {'x': 1196, 'y': 2110}},\n",
              "    'ChinWhole_Tip': {'top_left': {'x': 955, 'y': 2213},\n",
              "     'bottom_right': {'x': 1162, 'y': 2288}},\n",
              "    'TempleLeft_Whole': {'top_left': {'x': 491, 'y': 927},\n",
              "     'bottom_right': {'x': 581, 'y': 1148}},\n",
              "    'TempleRight_Whole': {'top_left': {'x': 1517, 'y': 911},\n",
              "     'bottom_right': {'x': 1617, 'y': 1131}}},\n",
              "   'image_name': '1b1dcbfe-741d-4dac-ad39-c8bbf46f55de_ACQ.png',\n",
              "   'face_labels': {'EyeLeft_NasalRoot_Dark': 'Yes',\n",
              "    'EyeRight_NasalRoot_Dark': 'Yes',\n",
              "    'EyeLeft_OuterCorner_Dark': 'No',\n",
              "    'EyeRight_OuterCorner_Dark': 'No',\n",
              "    'EyeLeft_InnerCorner_BrightDot': 'No',\n",
              "    'EyeRight_InnerCorner_BrightDot': 'No',\n",
              "    'EyeLeft_InnerCorner_Bright': 'No',\n",
              "    'EyeRight_InnerCorner_Bright': 'No',\n",
              "    'EyeLeft_Whole_Protruding': 'No',\n",
              "    'EyeRight_Whole_Protruding': 'No',\n",
              "    'EyeLeft_UpperLid_Droopy': 'No',\n",
              "    'EyeRight_UpperLid_Droopy': 'No',\n",
              "    'EyeLeft_Lower_Pale': 'No',\n",
              "    'EyeRight_Lower_Pale': 'No',\n",
              "    'EyeLeft_Lower_Tearsack': 'No',\n",
              "    'EyeRight_Lower_Tearsack': 'No',\n",
              "    'EyeLeft_Lower_Dark': 'No',\n",
              "    'EyeRight_Lower_Dark': 'No',\n",
              "    'MouthUpper_Lip_BrightLine': 'No',\n",
              "    'MouthLower_Lip_BrightLine': 'No',\n",
              "    'MouthLeft_Corner_Cracked': 'No',\n",
              "    'MouthRight_Corner_Cracked': 'No',\n",
              "    'MouthLeft_Corner_Red': 'No',\n",
              "    'MouthRight_Corner_Red': 'No',\n",
              "    'MouthUpper_Pallium_VerticalWrinkles': 'No',\n",
              "    'MouthUpper_Pallium_Red': 'No',\n",
              "    'MouthUpper_Pallium_Dark': 'No',\n",
              "    'MouthLower_UnderLip_Swollen': 'Yes',\n",
              "    'MouthUpper_UnderLip_VerticalWrinkles': 'No',\n",
              "    'ChinWhole_Tip_Red': 'Yes',\n",
              "    'ChinWhole_Tip_Dimples': 'No',\n",
              "    'ForeheadCenter_Lower_VerticalWrinkles': 'No',\n",
              "    'TempleLeft_Whole_Dented': 'No',\n",
              "    'TempleRight_Whole_Dented': 'No',\n",
              "    'CheekRight_Whole_Red': 'NotLabeled',\n",
              "    'CheekLeft_Whole_Red': 'NotLabeled',\n",
              "    'MouthWhole_Around_BrownYellow': 'NotLabeled',\n",
              "    'MouthWhole_Lips_Smooth': 'NotLabeled',\n",
              "    'MouthWhole_Lips_AlteredStructure': 'NotLabeled'},\n",
              "   'email': 'nana@nana.at',\n",
              "   'uid': 'nana@nana.at_1b1dcbfe-741d-4dac-ad39-c8bbf46f55de_ACQ.png'}],\n",
              " '7ed1b2ea-b633-430e-8664-d7e9401c2a30_ACQ.png': [{'bounding_boxes': {'Mouth_Whole': {'top_left': {'x': 1157,\n",
              "      'y': 2664},\n",
              "     'bottom_right': {'x': 2033, 'y': 3074}},\n",
              "    'ForeheadCenter_Lower': {'top_left': {'x': 1397, 'y': 1356},\n",
              "     'bottom_right': {'x': 1775, 'y': 2022}},\n",
              "    'EyeLeft_Whole': {'top_left': {'x': 902, 'y': 1703},\n",
              "     'bottom_right': {'x': 1387, 'y': 2060}},\n",
              "    'EyeRight_Whole': {'top_left': {'x': 1811, 'y': 1704},\n",
              "     'bottom_right': {'x': 2280, 'y': 2055}},\n",
              "    'EyeLeft_InnerCorner': {'top_left': {'x': 1270, 'y': 1806},\n",
              "     'bottom_right': {'x': 1449, 'y': 1990}},\n",
              "    'EyeRight_InnerCorner': {'top_left': {'x': 1743, 'y': 1803},\n",
              "     'bottom_right': {'x': 1926, 'y': 1989}},\n",
              "    'EyeLeft_OuterCorner': {'top_left': {'x': 821, 'y': 1808},\n",
              "     'bottom_right': {'x': 955, 'y': 2022}},\n",
              "    'EyeRight_OuterCorner': {'top_left': {'x': 2210, 'y': 1807},\n",
              "     'bottom_right': {'x': 2367, 'y': 2018}},\n",
              "    'EyeLeft_NasalRoot': {'top_left': {'x': 1405, 'y': 1852},\n",
              "     'bottom_right': {'x': 1484, 'y': 2042}},\n",
              "    'EyeRight_NasalRoot': {'top_left': {'x': 1707, 'y': 1849},\n",
              "     'bottom_right': {'x': 1798, 'y': 2044}},\n",
              "    'EyeLeft_UpperLid': {'top_left': {'x': 923, 'y': 1622},\n",
              "     'bottom_right': {'x': 1338, 'y': 1863}},\n",
              "    'EyeRight_UpperLid': {'top_left': {'x': 1843, 'y': 1619},\n",
              "     'bottom_right': {'x': 2242, 'y': 1858}},\n",
              "    'EyeLeft_LowerLid': {'top_left': {'x': 943, 'y': 1966},\n",
              "     'bottom_right': {'x': 1285, 'y': 2087}},\n",
              "    'EyeRight_LowerLid': {'top_left': {'x': 1907, 'y': 1957},\n",
              "     'bottom_right': {'x': 2241, 'y': 2082}},\n",
              "    'EyeLeft_Lower': {'top_left': {'x': 943, 'y': 2042},\n",
              "     'bottom_right': {'x': 1386, 'y': 2268}},\n",
              "    'EyeRight_Lower': {'top_left': {'x': 1815, 'y': 2044},\n",
              "     'bottom_right': {'x': 2241, 'y': 2265}},\n",
              "    'MouthLeft_Corner': {'top_left': {'x': 1157, 'y': 2791},\n",
              "     'bottom_right': {'x': 1334, 'y': 2968}},\n",
              "    'MouthRight_Corner': {'top_left': {'x': 1837, 'y': 2801},\n",
              "     'bottom_right': {'x': 2033, 'y': 2968}},\n",
              "    'MouthUpper_Pallium': {'top_left': {'x': 1403, 'y': 2487},\n",
              "     'bottom_right': {'x': 1777, 'y': 2840}},\n",
              "    'MouthUpper_Lip': {'top_left': {'x': 1346, 'y': 2708},\n",
              "     'bottom_right': {'x': 1825, 'y': 2868}},\n",
              "    'MouthLower_Lip': {'top_left': {'x': 1334, 'y': 2799},\n",
              "     'bottom_right': {'x': 1832, 'y': 3030}},\n",
              "    'MouthLower_UnderLip': {'top_left': {'x': 1334, 'y': 2964},\n",
              "     'bottom_right': {'x': 1832, 'y': 3098}},\n",
              "    'ChinWhole_Tip': {'top_left': {'x': 1449, 'y': 3249},\n",
              "     'bottom_right': {'x': 1760, 'y': 3352}},\n",
              "    'TempleLeft_Whole': {'top_left': {'x': 687, 'y': 1425},\n",
              "     'bottom_right': {'x': 835, 'y': 1752}},\n",
              "    'TempleRight_Whole': {'top_left': {'x': 2350, 'y': 1421},\n",
              "     'bottom_right': {'x': 2495, 'y': 1747}}},\n",
              "   'image_name': '7ed1b2ea-b633-430e-8664-d7e9401c2a30_ACQ.png',\n",
              "   'face_labels': {'EyeLeft_NasalRoot_Dark': 'No',\n",
              "    'EyeRight_NasalRoot_Dark': 'No',\n",
              "    'EyeLeft_OuterCorner_Dark': 'No',\n",
              "    'EyeRight_OuterCorner_Dark': 'No',\n",
              "    'EyeLeft_InnerCorner_BrightDot': 'No',\n",
              "    'EyeRight_InnerCorner_BrightDot': 'No',\n",
              "    'EyeLeft_InnerCorner_Bright': 'No',\n",
              "    'EyeRight_InnerCorner_Bright': 'No',\n",
              "    'EyeLeft_Whole_Protruding': 'No',\n",
              "    'EyeRight_Whole_Protruding': 'No',\n",
              "    'EyeLeft_UpperLid_Droopy': 'No',\n",
              "    'EyeRight_UpperLid_Droopy': 'No',\n",
              "    'EyeLeft_Lower_Pale': 'No',\n",
              "    'EyeRight_Lower_Pale': 'No',\n",
              "    'EyeLeft_Lower_Tearsack': 'No',\n",
              "    'EyeRight_Lower_Tearsack': 'No',\n",
              "    'EyeLeft_Lower_Dark': 'No',\n",
              "    'EyeRight_Lower_Dark': 'No',\n",
              "    'MouthUpper_Lip_BrightLine': 'Yes',\n",
              "    'MouthLower_Lip_BrightLine': 'No',\n",
              "    'MouthLeft_Corner_Cracked': 'No',\n",
              "    'MouthRight_Corner_Cracked': 'No',\n",
              "    'MouthLeft_Corner_Red': 'No',\n",
              "    'MouthRight_Corner_Red': 'No',\n",
              "    'MouthUpper_Pallium_VerticalWrinkles': 'No',\n",
              "    'MouthUpper_Pallium_Red': 'No',\n",
              "    'MouthUpper_Pallium_Dark': 'No',\n",
              "    'MouthLower_UnderLip_Swollen': 'No',\n",
              "    'MouthUpper_UnderLip_VerticalWrinkles': 'No',\n",
              "    'ChinWhole_Tip_Red': 'No',\n",
              "    'ChinWhole_Tip_Dimples': 'No',\n",
              "    'ForeheadCenter_Lower_VerticalWrinkles': 'No',\n",
              "    'TempleLeft_Whole_Dented': 'No',\n",
              "    'TempleRight_Whole_Dented': 'No',\n",
              "    'CheekRight_Whole_Red': 'NotLabeled',\n",
              "    'CheekLeft_Whole_Red': 'NotLabeled',\n",
              "    'MouthWhole_Around_BrownYellow': 'NotLabeled',\n",
              "    'MouthWhole_Lips_Smooth': 'NotLabeled',\n",
              "    'MouthWhole_Lips_AlteredStructure': 'NotLabeled'},\n",
              "   'email': 'nana@nana.at',\n",
              "   'uid': 'nana@nana.at_7ed1b2ea-b633-430e-8664-d7e9401c2a30_ACQ.png'}],\n",
              " '7bf651ed-d95b-4430-87c3-1babe46cfead_ACQ.png': [{'bounding_boxes': {'Mouth_Whole': {'top_left': {'x': 526,\n",
              "      'y': 1620},\n",
              "     'bottom_right': {'x': 1122, 'y': 1919}},\n",
              "    'ForeheadCenter_Lower': {'top_left': {'x': 680, 'y': 555},\n",
              "     'bottom_right': {'x': 966, 'y': 1041}},\n",
              "    'EyeLeft_Whole': {'top_left': {'x': 360, 'y': 802},\n",
              "     'bottom_right': {'x': 687, 'y': 1079}},\n",
              "    'EyeRight_Whole': {'top_left': {'x': 974, 'y': 797},\n",
              "     'bottom_right': {'x': 1326, 'y': 1096}},\n",
              "    'EyeLeft_InnerCorner': {'top_left': {'x': 607, 'y': 890},\n",
              "     'bottom_right': {'x': 728, 'y': 1052}},\n",
              "    'EyeRight_InnerCorner': {'top_left': {'x': 929, 'y': 889},\n",
              "     'bottom_right': {'x': 1056, 'y': 1054}},\n",
              "    'EyeLeft_OuterCorner': {'top_left': {'x': 309, 'y': 878},\n",
              "     'bottom_right': {'x': 386, 'y': 1044}},\n",
              "    'EyeRight_OuterCorner': {'top_left': {'x': 1296, 'y': 880},\n",
              "     'bottom_right': {'x': 1384, 'y': 1059}},\n",
              "    'EyeLeft_NasalRoot': {'top_left': {'x': 679, 'y': 945},\n",
              "     'bottom_right': {'x': 739, 'y': 1098}},\n",
              "    'EyeRight_NasalRoot': {'top_left': {'x': 903, 'y': 948},\n",
              "     'bottom_right': {'x': 964, 'y': 1104}},\n",
              "    'EyeLeft_UpperLid': {'top_left': {'x': 370, 'y': 735},\n",
              "     'bottom_right': {'x': 651, 'y': 910}},\n",
              "    'EyeRight_UpperLid': {'top_left': {'x': 1008, 'y': 730},\n",
              "     'bottom_right': {'x': 1316, 'y': 915}},\n",
              "    'EyeLeft_LowerLid': {'top_left': {'x': 379, 'y': 1032},\n",
              "     'bottom_right': {'x': 621, 'y': 1115}},\n",
              "    'EyeRight_LowerLid': {'top_left': {'x': 1044, 'y': 1042},\n",
              "     'bottom_right': {'x': 1297, 'y': 1128}},\n",
              "    'EyeLeft_Lower': {'top_left': {'x': 379, 'y': 1098},\n",
              "     'bottom_right': {'x': 677, 'y': 1255}},\n",
              "    'EyeRight_Lower': {'top_left': {'x': 976, 'y': 1104},\n",
              "     'bottom_right': {'x': 1297, 'y': 1268}},\n",
              "    'MouthLeft_Corner': {'top_left': {'x': 526, 'y': 1700},\n",
              "     'bottom_right': {'x': 659, 'y': 1779}},\n",
              "    'MouthRight_Corner': {'top_left': {'x': 990, 'y': 1702},\n",
              "     'bottom_right': {'x': 1122, 'y': 1791}},\n",
              "    'MouthUpper_Pallium': {'top_left': {'x': 692, 'y': 1474},\n",
              "     'bottom_right': {'x': 943, 'y': 1750}},\n",
              "    'MouthUpper_Lip': {'top_left': {'x': 667, 'y': 1652},\n",
              "     'bottom_right': {'x': 982, 'y': 1757}},\n",
              "    'MouthLower_Lip': {'top_left': {'x': 661, 'y': 1704},\n",
              "     'bottom_right': {'x': 996, 'y': 1887}},\n",
              "    'MouthLower_UnderLip': {'top_left': {'x': 661, 'y': 1838},\n",
              "     'bottom_right': {'x': 996, 'y': 1865}},\n",
              "    'ChinWhole_Tip': {'top_left': {'x': 717, 'y': 1975},\n",
              "     'bottom_right': {'x': 928, 'y': 2028}},\n",
              "    'TempleLeft_Whole': {'top_left': {'x': 239, 'y': 562},\n",
              "     'bottom_right': {'x': 315, 'y': 785}},\n",
              "    'TempleRight_Whole': {'top_left': {'x': 1371, 'y': 571},\n",
              "     'bottom_right': {'x': 1481, 'y': 798}}},\n",
              "   'image_name': '7bf651ed-d95b-4430-87c3-1babe46cfead_ACQ.png',\n",
              "   'face_labels': {'EyeLeft_NasalRoot_Dark': 'No',\n",
              "    'EyeRight_NasalRoot_Dark': 'No',\n",
              "    'EyeLeft_OuterCorner_Dark': 'No',\n",
              "    'EyeRight_OuterCorner_Dark': 'No',\n",
              "    'EyeLeft_InnerCorner_BrightDot': 'No',\n",
              "    'EyeRight_InnerCorner_BrightDot': 'No',\n",
              "    'EyeLeft_InnerCorner_Bright': 'Yes',\n",
              "    'EyeRight_InnerCorner_Bright': 'Yes',\n",
              "    'EyeLeft_Whole_Protruding': 'No',\n",
              "    'EyeRight_Whole_Protruding': 'No',\n",
              "    'EyeLeft_UpperLid_Droopy': 'No',\n",
              "    'EyeRight_UpperLid_Droopy': 'No',\n",
              "    'EyeLeft_Lower_Pale': 'No',\n",
              "    'EyeRight_Lower_Pale': 'No',\n",
              "    'EyeLeft_Lower_Tearsack': 'No',\n",
              "    'EyeRight_Lower_Tearsack': 'No',\n",
              "    'EyeLeft_Lower_Dark': 'Yes',\n",
              "    'EyeRight_Lower_Dark': 'Yes',\n",
              "    'MouthUpper_Lip_BrightLine': 'No',\n",
              "    'MouthLower_Lip_BrightLine': 'No',\n",
              "    'MouthLeft_Corner_Cracked': 'No',\n",
              "    'MouthRight_Corner_Cracked': 'No',\n",
              "    'MouthLeft_Corner_Red': 'No',\n",
              "    'MouthRight_Corner_Red': 'No',\n",
              "    'MouthUpper_Pallium_VerticalWrinkles': 'No',\n",
              "    'MouthUpper_Pallium_Red': 'No',\n",
              "    'MouthUpper_Pallium_Dark': 'No',\n",
              "    'MouthLower_UnderLip_Swollen': 'No',\n",
              "    'MouthUpper_UnderLip_VerticalWrinkles': 'No',\n",
              "    'ChinWhole_Tip_Red': 'Yes',\n",
              "    'ChinWhole_Tip_Dimples': 'Yes',\n",
              "    'ForeheadCenter_Lower_VerticalWrinkles': 'No',\n",
              "    'TempleLeft_Whole_Dented': 'No',\n",
              "    'TempleRight_Whole_Dented': 'No',\n",
              "    'CheekRight_Whole_Red': 'NotLabeled',\n",
              "    'CheekLeft_Whole_Red': 'NotLabeled',\n",
              "    'MouthWhole_Around_BrownYellow': 'NotLabeled',\n",
              "    'MouthWhole_Lips_Smooth': 'NotLabeled',\n",
              "    'MouthWhole_Lips_AlteredStructure': 'NotLabeled'},\n",
              "   'email': 'nana@nana.at',\n",
              "   'uid': 'nana@nana.at_7bf651ed-d95b-4430-87c3-1babe46cfead_ACQ.png'}],\n",
              " '1fb6b98a-6100-4f80-b57a-a5c5e13d0c2a_ACQ.png': [{'bounding_boxes': {'Mouth_Whole': {'top_left': {'x': 1017,\n",
              "      'y': 2879},\n",
              "     'bottom_right': {'x': 2173, 'y': 3433}},\n",
              "    'ForeheadCenter_Lower': {'top_left': {'x': 1447, 'y': 1110},\n",
              "     'bottom_right': {'x': 1945, 'y': 1954}},\n",
              "    'EyeLeft_Whole': {'top_left': {'x': 811, 'y': 1477},\n",
              "     'bottom_right': {'x': 1418, 'y': 1975}},\n",
              "    'EyeRight_Whole': {'top_left': {'x': 1931, 'y': 1560},\n",
              "     'bottom_right': {'x': 2560, 'y': 2095}},\n",
              "    'EyeLeft_InnerCorner': {'top_left': {'x': 1268, 'y': 1635},\n",
              "     'bottom_right': {'x': 1502, 'y': 1913}},\n",
              "    'EyeRight_InnerCorner': {'top_left': {'x': 1860, 'y': 1695},\n",
              "     'bottom_right': {'x': 2078, 'y': 1971}},\n",
              "    'EyeLeft_OuterCorner': {'top_left': {'x': 709, 'y': 1605},\n",
              "     'bottom_right': {'x': 886, 'y': 1913}},\n",
              "    'EyeRight_OuterCorner': {'top_left': {'x': 2531, 'y': 1714},\n",
              "     'bottom_right': {'x': 2656, 'y': 2039}},\n",
              "    'EyeLeft_NasalRoot': {'top_left': {'x': 1414, 'y': 1743},\n",
              "     'bottom_right': {'x': 1533, 'y': 1993}},\n",
              "    'EyeRight_NasalRoot': {'top_left': {'x': 1813, 'y': 1767},\n",
              "     'bottom_right': {'x': 1903, 'y': 2038}},\n",
              "    'EyeLeft_UpperLid': {'top_left': {'x': 847, 'y': 1392},\n",
              "     'bottom_right': {'x': 1376, 'y': 1671}},\n",
              "    'EyeRight_UpperLid': {'top_left': {'x': 2013, 'y': 1450},\n",
              "     'bottom_right': {'x': 2563, 'y': 1759}},\n",
              "    'EyeLeft_LowerLid': {'top_left': {'x': 851, 'y': 1879},\n",
              "     'bottom_right': {'x': 1296, 'y': 2033}},\n",
              "    'EyeRight_LowerLid': {'top_left': {'x': 2063, 'y': 1967},\n",
              "     'bottom_right': {'x': 2504, 'y': 2121}},\n",
              "    'EyeLeft_Lower': {'top_left': {'x': 851, 'y': 1993},\n",
              "     'bottom_right': {'x': 1402, 'y': 2288}},\n",
              "    'EyeRight_Lower': {'top_left': {'x': 1929, 'y': 2038},\n",
              "     'bottom_right': {'x': 2504, 'y': 2365}},\n",
              "    'MouthLeft_Corner': {'top_left': {'x': 1017, 'y': 3025},\n",
              "     'bottom_right': {'x': 1216, 'y': 3250}},\n",
              "    'MouthRight_Corner': {'top_left': {'x': 1974, 'y': 3084},\n",
              "     'bottom_right': {'x': 2173, 'y': 3309}},\n",
              "    'MouthUpper_Pallium': {'top_left': {'x': 1306, 'y': 2660},\n",
              "     'bottom_right': {'x': 1879, 'y': 3111}},\n",
              "    'MouthUpper_Lip': {'top_left': {'x': 1237, 'y': 2937},\n",
              "     'bottom_right': {'x': 1950, 'y': 3131}},\n",
              "    'MouthLower_Lip': {'top_left': {'x': 1228, 'y': 3091},\n",
              "     'bottom_right': {'x': 1950, 'y': 3375}},\n",
              "    'MouthLower_UnderLip': {'top_left': {'x': 1228, 'y': 3288},\n",
              "     'bottom_right': {'x': 1950, 'y': 3415}},\n",
              "    'ChinWhole_Tip': {'top_left': {'x': 1359, 'y': 3635},\n",
              "     'bottom_right': {'x': 1779, 'y': 3749}},\n",
              "    'TempleLeft_Whole': {'top_left': {'x': 614, 'y': 1143},\n",
              "     'bottom_right': {'x': 777, 'y': 1545}},\n",
              "    'TempleRight_Whole': {'top_left': {'x': 2671, 'y': 1256},\n",
              "     'bottom_right': {'x': 2833, 'y': 1676}}},\n",
              "   'image_name': '1fb6b98a-6100-4f80-b57a-a5c5e13d0c2a_ACQ.png',\n",
              "   'face_labels': {'EyeLeft_NasalRoot_Dark': 'No',\n",
              "    'EyeRight_NasalRoot_Dark': 'No',\n",
              "    'EyeLeft_OuterCorner_Dark': 'No',\n",
              "    'EyeRight_OuterCorner_Dark': 'No',\n",
              "    'EyeLeft_InnerCorner_BrightDot': 'Yes',\n",
              "    'EyeRight_InnerCorner_BrightDot': 'No',\n",
              "    'EyeLeft_InnerCorner_Bright': 'Yes',\n",
              "    'EyeRight_InnerCorner_Bright': 'Yes',\n",
              "    'EyeLeft_Whole_Protruding': 'No',\n",
              "    'EyeRight_Whole_Protruding': 'No',\n",
              "    'EyeLeft_UpperLid_Droopy': 'No',\n",
              "    'EyeRight_UpperLid_Droopy': 'No',\n",
              "    'EyeLeft_Lower_Pale': 'No',\n",
              "    'EyeRight_Lower_Pale': 'No',\n",
              "    'EyeLeft_Lower_Tearsack': 'No',\n",
              "    'EyeRight_Lower_Tearsack': 'No',\n",
              "    'EyeLeft_Lower_Dark': 'No',\n",
              "    'EyeRight_Lower_Dark': 'No',\n",
              "    'MouthUpper_Lip_BrightLine': 'No',\n",
              "    'MouthLower_Lip_BrightLine': 'No',\n",
              "    'MouthLeft_Corner_Cracked': 'No',\n",
              "    'MouthRight_Corner_Cracked': 'No',\n",
              "    'MouthLeft_Corner_Red': 'No',\n",
              "    'MouthRight_Corner_Red': 'No',\n",
              "    'MouthUpper_Pallium_VerticalWrinkles': 'No',\n",
              "    'MouthUpper_Pallium_Red': 'No',\n",
              "    'MouthUpper_Pallium_Dark': 'No',\n",
              "    'MouthLower_UnderLip_Swollen': 'No',\n",
              "    'MouthUpper_UnderLip_VerticalWrinkles': 'No',\n",
              "    'ChinWhole_Tip_Red': 'No',\n",
              "    'ChinWhole_Tip_Dimples': 'No',\n",
              "    'ForeheadCenter_Lower_VerticalWrinkles': 'No',\n",
              "    'TempleLeft_Whole_Dented': 'No',\n",
              "    'TempleRight_Whole_Dented': 'No',\n",
              "    'CheekRight_Whole_Red': 'NotLabeled',\n",
              "    'CheekLeft_Whole_Red': 'NotLabeled',\n",
              "    'MouthWhole_Around_BrownYellow': 'NotLabeled',\n",
              "    'MouthWhole_Lips_Smooth': 'NotLabeled',\n",
              "    'MouthWhole_Lips_AlteredStructure': 'NotLabeled'},\n",
              "   'email': 'nana@nana.at',\n",
              "   'uid': 'nana@nana.at_1fb6b98a-6100-4f80-b57a-a5c5e13d0c2a_ACQ.png'}],\n",
              " '3e70fbbc-03f9-4ba5-b9d3-f411314b596b_ACQ.png': [{'bounding_boxes': {'Mouth_Whole': {'top_left': {'x': 683,\n",
              "      'y': 1540},\n",
              "     'bottom_right': {'x': 1188, 'y': 1773}},\n",
              "    'ForeheadCenter_Lower': {'top_left': {'x': 861, 'y': 718},\n",
              "     'bottom_right': {'x': 1067, 'y': 1103}},\n",
              "    'EyeLeft_Whole': {'top_left': {'x': 570, 'y': 903},\n",
              "     'bottom_right': {'x': 845, 'y': 1118}},\n",
              "    'EyeRight_Whole': {'top_left': {'x': 1081, 'y': 928},\n",
              "     'bottom_right': {'x': 1357, 'y': 1149}},\n",
              "    'EyeLeft_InnerCorner': {'top_left': {'x': 775, 'y': 969},\n",
              "     'bottom_right': {'x': 883, 'y': 1090}},\n",
              "    'EyeRight_InnerCorner': {'top_left': {'x': 1045, 'y': 979},\n",
              "     'bottom_right': {'x': 1147, 'y': 1096}},\n",
              "    'EyeLeft_OuterCorner': {'top_left': {'x': 522, 'y': 964},\n",
              "     'bottom_right': {'x': 609, 'y': 1094}},\n",
              "    'EyeRight_OuterCorner': {'top_left': {'x': 1330, 'y': 992},\n",
              "     'bottom_right': {'x': 1404, 'y': 1126}},\n",
              "    'EyeLeft_NasalRoot': {'top_left': {'x': 846, 'y': 1003},\n",
              "     'bottom_right': {'x': 899, 'y': 1119}},\n",
              "    'EyeRight_NasalRoot': {'top_left': {'x': 1023, 'y': 1009},\n",
              "     'bottom_right': {'x': 1068, 'y': 1126}},\n",
              "    'EyeLeft_UpperLid': {'top_left': {'x': 590, 'y': 856},\n",
              "     'bottom_right': {'x': 826, 'y': 993}},\n",
              "    'EyeRight_UpperLid': {'top_left': {'x': 1105, 'y': 882},\n",
              "     'bottom_right': {'x': 1348, 'y': 1011}},\n",
              "    'EyeLeft_LowerLid': {'top_left': {'x': 589, 'y': 1077},\n",
              "     'bottom_right': {'x': 787, 'y': 1143}},\n",
              "    'EyeRight_LowerLid': {'top_left': {'x': 1138, 'y': 1088},\n",
              "     'bottom_right': {'x': 1333, 'y': 1160}},\n",
              "    'EyeLeft_Lower': {'top_left': {'x': 589, 'y': 1119},\n",
              "     'bottom_right': {'x': 838, 'y': 1245}},\n",
              "    'EyeRight_Lower': {'top_left': {'x': 1081, 'y': 1126},\n",
              "     'bottom_right': {'x': 1333, 'y': 1269}},\n",
              "    'MouthLeft_Corner': {'top_left': {'x': 683, 'y': 1608},\n",
              "     'bottom_right': {'x': 799, 'y': 1681}},\n",
              "    'MouthRight_Corner': {'top_left': {'x': 1080, 'y': 1611},\n",
              "     'bottom_right': {'x': 1188, 'y': 1700}},\n",
              "    'MouthUpper_Pallium': {'top_left': {'x': 835, 'y': 1390},\n",
              "     'bottom_right': {'x': 1044, 'y': 1647}},\n",
              "    'MouthUpper_Lip': {'top_left': {'x': 804, 'y': 1567},\n",
              "     'bottom_right': {'x': 1073, 'y': 1654}},\n",
              "    'MouthLower_Lip': {'top_left': {'x': 798, 'y': 1609},\n",
              "     'bottom_right': {'x': 1078, 'y': 1746}},\n",
              "    'MouthLower_UnderLip': {'top_left': {'x': 798, 'y': 1706},\n",
              "     'bottom_right': {'x': 1078, 'y': 1760}},\n",
              "    'ChinWhole_Tip': {'top_left': {'x': 840, 'y': 1858},\n",
              "     'bottom_right': {'x': 1024, 'y': 1919}},\n",
              "    'TempleLeft_Whole': {'top_left': {'x': 468, 'y': 728},\n",
              "     'bottom_right': {'x': 555, 'y': 924}},\n",
              "    'TempleRight_Whole': {'top_left': {'x': 1406, 'y': 765},\n",
              "     'bottom_right': {'x': 1489, 'y': 966}}},\n",
              "   'image_name': '3e70fbbc-03f9-4ba5-b9d3-f411314b596b_ACQ.png',\n",
              "   'face_labels': {'EyeLeft_NasalRoot_Dark': 'Yes',\n",
              "    'EyeRight_NasalRoot_Dark': 'Yes',\n",
              "    'EyeLeft_OuterCorner_Dark': 'No',\n",
              "    'EyeRight_OuterCorner_Dark': 'No',\n",
              "    'EyeLeft_InnerCorner_BrightDot': 'No',\n",
              "    'EyeRight_InnerCorner_BrightDot': 'No',\n",
              "    'EyeLeft_InnerCorner_Bright': 'Yes',\n",
              "    'EyeRight_InnerCorner_Bright': 'Yes',\n",
              "    'EyeLeft_Whole_Protruding': 'No',\n",
              "    'EyeRight_Whole_Protruding': 'No',\n",
              "    'EyeLeft_UpperLid_Droopy': 'Yes',\n",
              "    'EyeRight_UpperLid_Droopy': 'No',\n",
              "    'EyeLeft_Lower_Pale': 'No',\n",
              "    'EyeRight_Lower_Pale': 'No',\n",
              "    'EyeLeft_Lower_Tearsack': 'No',\n",
              "    'EyeRight_Lower_Tearsack': 'No',\n",
              "    'EyeLeft_Lower_Dark': 'No',\n",
              "    'EyeRight_Lower_Dark': 'No',\n",
              "    'MouthUpper_Lip_BrightLine': 'No',\n",
              "    'MouthLower_Lip_BrightLine': 'No',\n",
              "    'MouthLeft_Corner_Cracked': 'No',\n",
              "    'MouthRight_Corner_Cracked': 'No',\n",
              "    'MouthLeft_Corner_Red': 'No',\n",
              "    'MouthRight_Corner_Red': 'No',\n",
              "    'MouthUpper_Pallium_VerticalWrinkles': 'No',\n",
              "    'MouthUpper_Pallium_Red': 'No',\n",
              "    'MouthUpper_Pallium_Dark': 'No',\n",
              "    'MouthLower_UnderLip_Swollen': 'No',\n",
              "    'MouthUpper_UnderLip_VerticalWrinkles': 'No',\n",
              "    'ChinWhole_Tip_Red': 'Yes',\n",
              "    'ChinWhole_Tip_Dimples': 'No',\n",
              "    'ForeheadCenter_Lower_VerticalWrinkles': 'No',\n",
              "    'TempleLeft_Whole_Dented': 'No',\n",
              "    'TempleRight_Whole_Dented': 'No',\n",
              "    'CheekRight_Whole_Red': 'NotLabeled',\n",
              "    'CheekLeft_Whole_Red': 'NotLabeled',\n",
              "    'MouthWhole_Around_BrownYellow': 'NotLabeled',\n",
              "    'MouthWhole_Lips_Smooth': 'NotLabeled',\n",
              "    'MouthWhole_Lips_AlteredStructure': 'NotLabeled'},\n",
              "   'email': 'nana@nana.at',\n",
              "   'uid': 'nana@nana.at_3e70fbbc-03f9-4ba5-b9d3-f411314b596b_ACQ.png'}],\n",
              " '00002_NVDE.png': [{'bounding_boxes': {'Mouth_Whole': {'top_left': {'x': 371,\n",
              "      'y': 695},\n",
              "     'bottom_right': {'x': 637, 'y': 796}},\n",
              "    'ForeheadCenter_Lower': {'top_left': {'x': 474, 'y': 354},\n",
              "     'bottom_right': {'x': 578, 'y': 531}},\n",
              "    'EyeLeft_Whole': {'top_left': {'x': 302, 'y': 430},\n",
              "     'bottom_right': {'x': 456, 'y': 524}},\n",
              "    'EyeRight_Whole': {'top_left': {'x': 579, 'y': 434},\n",
              "     'bottom_right': {'x': 709, 'y': 525}},\n",
              "    'EyeLeft_InnerCorner': {'top_left': {'x': 420, 'y': 461},\n",
              "     'bottom_right': {'x': 478, 'y': 515}},\n",
              "    'EyeRight_InnerCorner': {'top_left': {'x': 561, 'y': 462},\n",
              "     'bottom_right': {'x': 611, 'y': 514}},\n",
              "    'EyeLeft_OuterCorner': {'top_left': {'x': 272, 'y': 455},\n",
              "     'bottom_right': {'x': 332, 'y': 512}},\n",
              "    'EyeRight_OuterCorner': {'top_left': {'x': 694, 'y': 457},\n",
              "     'bottom_right': {'x': 732, 'y': 513}},\n",
              "    'EyeLeft_NasalRoot': {'top_left': {'x': 460, 'y': 484},\n",
              "     'bottom_right': {'x': 491, 'y': 531}},\n",
              "    'EyeRight_NasalRoot': {'top_left': {'x': 556, 'y': 483},\n",
              "     'bottom_right': {'x': 576, 'y': 529}},\n",
              "    'EyeLeft_UpperLid': {'top_left': {'x': 321, 'y': 415},\n",
              "     'bottom_right': {'x': 450, 'y': 468}},\n",
              "    'EyeRight_UpperLid': {'top_left': {'x': 592, 'y': 419},\n",
              "     'bottom_right': {'x': 701, 'y': 469}},\n",
              "    'EyeLeft_LowerLid': {'top_left': {'x': 317, 'y': 505},\n",
              "     'bottom_right': {'x': 427, 'y': 536}},\n",
              "    'EyeRight_LowerLid': {'top_left': {'x': 604, 'y': 507},\n",
              "     'bottom_right': {'x': 698, 'y': 537}},\n",
              "    'EyeLeft_Lower': {'top_left': {'x': 317, 'y': 531},\n",
              "     'bottom_right': {'x': 454, 'y': 583}},\n",
              "    'EyeRight_Lower': {'top_left': {'x': 580, 'y': 529},\n",
              "     'bottom_right': {'x': 698, 'y': 584}},\n",
              "    'MouthLeft_Corner': {'top_left': {'x': 371, 'y': 726},\n",
              "     'bottom_right': {'x': 432, 'y': 767}},\n",
              "    'MouthRight_Corner': {'top_left': {'x': 593, 'y': 721},\n",
              "     'bottom_right': {'x': 637, 'y': 764}},\n",
              "    'MouthUpper_Pallium': {'top_left': {'x': 455, 'y': 652},\n",
              "     'bottom_right': {'x': 576, 'y': 742}},\n",
              "    'MouthUpper_Lip': {'top_left': {'x': 435, 'y': 706},\n",
              "     'bottom_right': {'x': 589, 'y': 746}},\n",
              "    'MouthLower_Lip': {'top_left': {'x': 432, 'y': 719},\n",
              "     'bottom_right': {'x': 591, 'y': 784}},\n",
              "    'MouthLower_UnderLip': {'top_left': {'x': 432, 'y': 766},\n",
              "     'bottom_right': {'x': 591, 'y': 806}},\n",
              "    'ChinWhole_Tip': {'top_left': {'x': 459, 'y': 848},\n",
              "     'bottom_right': {'x': 550, 'y': 875}},\n",
              "    'TempleLeft_Whole': {'top_left': {'x': 208, 'y': 341},\n",
              "     'bottom_right': {'x': 282, 'y': 425}},\n",
              "    'TempleRight_Whole': {'top_left': {'x': 735, 'y': 353},\n",
              "     'bottom_right': {'x': 763, 'y': 434}}},\n",
              "   'image_name': '00002_NVDE.png',\n",
              "   'face_labels': {'EyeLeft_Lower_Pale': 'Undef',\n",
              "    'ChinWhole_Tip_Red': 'Undef',\n",
              "    'EyeLeft_Lower_Dark': 'Undef',\n",
              "    'EyeRight_NasalRoot_Dark': 'Undef',\n",
              "    'ChinWhole_Tip_Dimples': 'Undef',\n",
              "    'MouthRight_Corner_Red': 'Undef',\n",
              "    'EyeRight_Lower_Dark': 'Undef',\n",
              "    'MouthLower_UnderLip_Swollen': 'Undef',\n",
              "    'EyeLeft_InnerCorner_Bright': 'Undef',\n",
              "    'EyeRight_InnerCorner_BrightDot': 'Undef',\n",
              "    'EyeLeft_NasalRoot_Dark': 'Undef',\n",
              "    'MouthUpper_Lip_BrightLine': 'Undef',\n",
              "    'MouthUpper_Pallium_Dark': 'Undef',\n",
              "    'MouthUpper_Pallium_Red': 'Undef',\n",
              "    'EyeRight_Lower_Tearsack': 'Undef',\n",
              "    'MouthLeft_Corner_Red': 'Undef',\n",
              "    'EyeLeft_UpperLid_Droopy': 'Undef',\n",
              "    'EyeLeft_Lower_Tearsack': 'Undef',\n",
              "    'MouthUpper_UnderLip_VerticalWrinkles': 'Undef',\n",
              "    'MouthLeft_Corner_Cracked': 'Undef',\n",
              "    'EyeRight_Lower_Pale': 'Undef',\n",
              "    'EyeLeft_OuterCorner_Dark': 'Undef',\n",
              "    'MouthUpper_Pallium_VerticalWrinkles': 'Undef',\n",
              "    'EyeRight_OuterCorner_Dark': 'Undef',\n",
              "    'EyeRight_UpperLid_Droopy': 'Undef',\n",
              "    'EyeRight_InnerCorner_Bright': 'Undef',\n",
              "    'EyeLeft_Whole_Protruding': 'Undef',\n",
              "    'ForeheadCenter_Lower_VerticalWrinkles': 'Undef',\n",
              "    'TempleRight_Whole_Dented': 'Undef',\n",
              "    'TempleLeft_Whole_Dented': 'Undef',\n",
              "    'MouthLower_Lip_BrightLine': 'Undef',\n",
              "    'MouthRight_Corner_Cracked': 'Undef',\n",
              "    'EyeLeft_InnerCorner_BrightDot': 'NotLabeled',\n",
              "    'EyeRight_Whole_Protruding': 'NotLabeled',\n",
              "    'CheekRight_Whole_Red': 'NotLabeled',\n",
              "    'CheekLeft_Whole_Red': 'NotLabeled',\n",
              "    'MouthWhole_Around_BrownYellow': 'NotLabeled',\n",
              "    'MouthWhole_Lips_Smooth': 'NotLabeled',\n",
              "    'MouthWhole_Lips_AlteredStructure': 'NotLabeled'},\n",
              "   'email': 'unknown',\n",
              "   'uid': 'unknown_00002_NVDE.png'}],\n",
              " '1d60ae09-5a9f-4661-a749-d198fe4ef3c4_ACQ.png': [{'bounding_boxes': {'Mouth_Whole': {'top_left': {'x': 294,\n",
              "      'y': 489},\n",
              "     'bottom_right': {'x': 443, 'y': 552}},\n",
              "    'ForeheadCenter_Lower': {'top_left': {'x': 354, 'y': 296},\n",
              "     'bottom_right': {'x': 417, 'y': 395}},\n",
              "    'EyeLeft_Whole': {'top_left': {'x': 267, 'y': 337},\n",
              "     'bottom_right': {'x': 343, 'y': 388}},\n",
              "    'EyeRight_Whole': {'top_left': {'x': 418, 'y': 347},\n",
              "     'bottom_right': {'x': 488, 'y': 400}},\n",
              "    'EyeLeft_InnerCorner': {'top_left': {'x': 326, 'y': 356},\n",
              "     'bottom_right': {'x': 356, 'y': 384}},\n",
              "    'EyeRight_InnerCorner': {'top_left': {'x': 408, 'y': 360},\n",
              "     'bottom_right': {'x': 434, 'y': 387}},\n",
              "    'EyeLeft_OuterCorner': {'top_left': {'x': 252, 'y': 351},\n",
              "     'bottom_right': {'x': 281, 'y': 381}},\n",
              "    'EyeRight_OuterCorner': {'top_left': {'x': 483, 'y': 362},\n",
              "     'bottom_right': {'x': 500, 'y': 394}},\n",
              "    'EyeLeft_NasalRoot': {'top_left': {'x': 348, 'y': 368},\n",
              "     'bottom_right': {'x': 364, 'y': 394}},\n",
              "    'EyeRight_NasalRoot': {'top_left': {'x': 403, 'y': 369},\n",
              "     'bottom_right': {'x': 412, 'y': 397}},\n",
              "    'EyeLeft_UpperLid': {'top_left': {'x': 274, 'y': 327},\n",
              "     'bottom_right': {'x': 341, 'y': 360}},\n",
              "    'EyeRight_UpperLid': {'top_left': {'x': 426, 'y': 337},\n",
              "     'bottom_right': {'x': 487, 'y': 366}},\n",
              "    'EyeLeft_LowerLid': {'top_left': {'x': 274, 'y': 377},\n",
              "     'bottom_right': {'x': 329, 'y': 395}},\n",
              "    'EyeRight_LowerLid': {'top_left': {'x': 432, 'y': 381},\n",
              "     'bottom_right': {'x': 481, 'y': 402}},\n",
              "    'EyeLeft_Lower': {'top_left': {'x': 274, 'y': 394},\n",
              "     'bottom_right': {'x': 344, 'y': 421}},\n",
              "    'EyeRight_Lower': {'top_left': {'x': 416, 'y': 397},\n",
              "     'bottom_right': {'x': 481, 'y': 433}},\n",
              "    'MouthLeft_Corner': {'top_left': {'x': 294, 'y': 500},\n",
              "     'bottom_right': {'x': 326, 'y': 526}},\n",
              "    'MouthRight_Corner': {'top_left': {'x': 413, 'y': 506},\n",
              "     'bottom_right': {'x': 443, 'y': 533}},\n",
              "    'MouthUpper_Pallium': {'top_left': {'x': 337, 'y': 470},\n",
              "     'bottom_right': {'x': 404, 'y': 517}},\n",
              "    'MouthUpper_Lip': {'top_left': {'x': 328, 'y': 496},\n",
              "     'bottom_right': {'x': 411, 'y': 513}},\n",
              "    'MouthLower_Lip': {'top_left': {'x': 327, 'y': 507},\n",
              "     'bottom_right': {'x': 411, 'y': 545}},\n",
              "    'MouthLower_UnderLip': {'top_left': {'x': 327, 'y': 535},\n",
              "     'bottom_right': {'x': 411, 'y': 552}},\n",
              "    'ChinWhole_Tip': {'top_left': {'x': 339, 'y': 585},\n",
              "     'bottom_right': {'x': 390, 'y': 601}},\n",
              "    'TempleLeft_Whole': {'top_left': {'x': 230, 'y': 279},\n",
              "     'bottom_right': {'x': 262, 'y': 323}},\n",
              "    'TempleRight_Whole': {'top_left': {'x': 508, 'y': 299},\n",
              "     'bottom_right': {'x': 526, 'y': 346}}},\n",
              "   'image_name': '1d60ae09-5a9f-4661-a749-d198fe4ef3c4_ACQ.png',\n",
              "   'face_labels': {'EyeLeft_NasalRoot_Dark': 'No',\n",
              "    'EyeRight_NasalRoot_Dark': 'No',\n",
              "    'EyeLeft_OuterCorner_Dark': 'No',\n",
              "    'EyeRight_OuterCorner_Dark': 'No',\n",
              "    'EyeLeft_InnerCorner_BrightDot': 'No',\n",
              "    'EyeRight_InnerCorner_BrightDot': 'No',\n",
              "    'EyeLeft_InnerCorner_Bright': 'No',\n",
              "    'EyeRight_InnerCorner_Bright': 'No',\n",
              "    'EyeLeft_Whole_Protruding': 'No',\n",
              "    'EyeRight_Whole_Protruding': 'No',\n",
              "    'EyeLeft_UpperLid_Droopy': 'Yes',\n",
              "    'EyeRight_UpperLid_Droopy': 'Yes',\n",
              "    'EyeLeft_Lower_Pale': 'No',\n",
              "    'EyeRight_Lower_Pale': 'No',\n",
              "    'EyeLeft_Lower_Tearsack': 'No',\n",
              "    'EyeRight_Lower_Tearsack': 'No',\n",
              "    'EyeLeft_Lower_Dark': 'No',\n",
              "    'EyeRight_Lower_Dark': 'No',\n",
              "    'MouthUpper_Lip_BrightLine': 'No',\n",
              "    'MouthLower_Lip_BrightLine': 'No',\n",
              "    'MouthLeft_Corner_Cracked': 'No',\n",
              "    'MouthRight_Corner_Cracked': 'No',\n",
              "    'MouthLeft_Corner_Red': 'No',\n",
              "    'MouthRight_Corner_Red': 'No',\n",
              "    'MouthUpper_Pallium_VerticalWrinkles': 'No',\n",
              "    'MouthUpper_Pallium_Red': 'No',\n",
              "    'MouthUpper_Pallium_Dark': 'No',\n",
              "    'MouthLower_UnderLip_Swollen': 'No',\n",
              "    'MouthUpper_UnderLip_VerticalWrinkles': 'No',\n",
              "    'ChinWhole_Tip_Red': 'No',\n",
              "    'ChinWhole_Tip_Dimples': 'No',\n",
              "    'ForeheadCenter_Lower_VerticalWrinkles': 'No',\n",
              "    'TempleLeft_Whole_Dented': 'No',\n",
              "    'TempleRight_Whole_Dented': 'No',\n",
              "    'CheekRight_Whole_Red': 'NotLabeled',\n",
              "    'CheekLeft_Whole_Red': 'NotLabeled',\n",
              "    'MouthWhole_Around_BrownYellow': 'NotLabeled',\n",
              "    'MouthWhole_Lips_Smooth': 'NotLabeled',\n",
              "    'MouthWhole_Lips_AlteredStructure': 'NotLabeled'},\n",
              "   'email': 'nana@nana.at',\n",
              "   'uid': 'nana@nana.at_1d60ae09-5a9f-4661-a749-d198fe4ef3c4_ACQ.png'}],\n",
              " '3b42b9e7-0c6e-4cfc-8ada-24fa46b89858_ACQ.png': [{'bounding_boxes': {'Mouth_Whole': {'top_left': {'x': 393,\n",
              "      'y': 853},\n",
              "     'bottom_right': {'x': 691, 'y': 983}},\n",
              "    'ForeheadCenter_Lower': {'top_left': {'x': 457, 'y': 437},\n",
              "     'bottom_right': {'x': 575, 'y': 661}},\n",
              "    'EyeLeft_Whole': {'top_left': {'x': 314, 'y': 559},\n",
              "     'bottom_right': {'x': 456, 'y': 673}},\n",
              "    'EyeRight_Whole': {'top_left': {'x': 596, 'y': 543},\n",
              "     'bottom_right': {'x': 761, 'y': 652}},\n",
              "    'EyeLeft_InnerCorner': {'top_left': {'x': 420, 'y': 584},\n",
              "     'bottom_right': {'x': 475, 'y': 639}},\n",
              "    'EyeRight_InnerCorner': {'top_left': {'x': 570, 'y': 574},\n",
              "     'bottom_right': {'x': 635, 'y': 630}},\n",
              "    'EyeLeft_OuterCorner': {'top_left': {'x': 293, 'y': 593},\n",
              "     'bottom_right': {'x': 324, 'y': 663}},\n",
              "    'EyeRight_OuterCorner': {'top_left': {'x': 738, 'y': 573},\n",
              "     'bottom_right': {'x': 791, 'y': 641}},\n",
              "    'EyeLeft_NasalRoot': {'top_left': {'x': 465, 'y': 593},\n",
              "     'bottom_right': {'x': 485, 'y': 650}},\n",
              "    'EyeRight_NasalRoot': {'top_left': {'x': 552, 'y': 591},\n",
              "     'bottom_right': {'x': 584, 'y': 646}},\n",
              "    'EyeLeft_UpperLid': {'top_left': {'x': 315, 'y': 536},\n",
              "     'bottom_right': {'x': 440, 'y': 603}},\n",
              "    'EyeRight_UpperLid': {'top_left': {'x': 603, 'y': 523},\n",
              "     'bottom_right': {'x': 751, 'y': 587}},\n",
              "    'EyeLeft_LowerLid': {'top_left': {'x': 327, 'y': 637},\n",
              "     'bottom_right': {'x': 425, 'y': 673}},\n",
              "    'EyeRight_LowerLid': {'top_left': {'x': 630, 'y': 625},\n",
              "     'bottom_right': {'x': 745, 'y': 660}},\n",
              "    'EyeLeft_Lower': {'top_left': {'x': 327, 'y': 650},\n",
              "     'bottom_right': {'x': 458, 'y': 731}},\n",
              "    'EyeRight_Lower': {'top_left': {'x': 594, 'y': 646},\n",
              "     'bottom_right': {'x': 745, 'y': 715}},\n",
              "    'MouthLeft_Corner': {'top_left': {'x': 393, 'y': 907},\n",
              "     'bottom_right': {'x': 452, 'y': 957}},\n",
              "    'MouthRight_Corner': {'top_left': {'x': 627, 'y': 898},\n",
              "     'bottom_right': {'x': 691, 'y': 949}},\n",
              "    'MouthUpper_Pallium': {'top_left': {'x': 473, 'y': 784},\n",
              "     'bottom_right': {'x': 602, 'y': 912}},\n",
              "    'MouthUpper_Lip': {'top_left': {'x': 456, 'y': 868},\n",
              "     'bottom_right': {'x': 623, 'y': 933}},\n",
              "    'MouthLower_Lip': {'top_left': {'x': 457, 'y': 898},\n",
              "     'bottom_right': {'x': 625, 'y': 968}},\n",
              "    'MouthLower_UnderLip': {'top_left': {'x': 457, 'y': 946},\n",
              "     'bottom_right': {'x': 625, 'y': 1004}},\n",
              "    'ChinWhole_Tip': {'top_left': {'x': 484, 'y': 1054},\n",
              "     'bottom_right': {'x': 597, 'y': 1108}},\n",
              "    'TempleLeft_Whole': {'top_left': {'x': 258, 'y': 490},\n",
              "     'bottom_right': {'x': 290, 'y': 602}},\n",
              "    'TempleRight_Whole': {'top_left': {'x': 777, 'y': 456},\n",
              "     'bottom_right': {'x': 859, 'y': 567}}},\n",
              "   'image_name': '3b42b9e7-0c6e-4cfc-8ada-24fa46b89858_ACQ.png',\n",
              "   'face_labels': {'EyeLeft_NasalRoot_Dark': 'No',\n",
              "    'EyeRight_NasalRoot_Dark': 'No',\n",
              "    'EyeLeft_OuterCorner_Dark': 'No',\n",
              "    'EyeRight_OuterCorner_Dark': 'No',\n",
              "    'EyeLeft_InnerCorner_BrightDot': 'Yes',\n",
              "    'EyeRight_InnerCorner_BrightDot': 'Yes',\n",
              "    'EyeLeft_InnerCorner_Bright': 'No',\n",
              "    'EyeRight_InnerCorner_Bright': 'No',\n",
              "    'EyeLeft_Whole_Protruding': 'No',\n",
              "    'EyeRight_Whole_Protruding': 'No',\n",
              "    'EyeLeft_UpperLid_Droopy': 'No',\n",
              "    'EyeRight_UpperLid_Droopy': 'No',\n",
              "    'EyeLeft_Lower_Pale': 'No',\n",
              "    'EyeRight_Lower_Pale': 'No',\n",
              "    'EyeLeft_Lower_Tearsack': 'No',\n",
              "    'EyeRight_Lower_Tearsack': 'No',\n",
              "    'EyeLeft_Lower_Dark': 'No',\n",
              "    'EyeRight_Lower_Dark': 'No',\n",
              "    'MouthUpper_Lip_BrightLine': 'Yes',\n",
              "    'MouthLower_Lip_BrightLine': 'Yes',\n",
              "    'MouthLeft_Corner_Cracked': 'No',\n",
              "    'MouthRight_Corner_Cracked': 'No',\n",
              "    'MouthLeft_Corner_Red': 'No',\n",
              "    'MouthRight_Corner_Red': 'No',\n",
              "    'MouthUpper_Pallium_VerticalWrinkles': 'No',\n",
              "    'MouthUpper_Pallium_Red': 'No',\n",
              "    'MouthUpper_Pallium_Dark': 'No',\n",
              "    'MouthLower_UnderLip_Swollen': 'No',\n",
              "    'MouthUpper_UnderLip_VerticalWrinkles': 'No',\n",
              "    'ChinWhole_Tip_Red': 'No',\n",
              "    'ChinWhole_Tip_Dimples': 'No',\n",
              "    'ForeheadCenter_Lower_VerticalWrinkles': 'No',\n",
              "    'TempleLeft_Whole_Dented': 'No',\n",
              "    'TempleRight_Whole_Dented': 'No',\n",
              "    'CheekRight_Whole_Red': 'NotLabeled',\n",
              "    'CheekLeft_Whole_Red': 'NotLabeled',\n",
              "    'MouthWhole_Around_BrownYellow': 'NotLabeled',\n",
              "    'MouthWhole_Lips_Smooth': 'NotLabeled',\n",
              "    'MouthWhole_Lips_AlteredStructure': 'NotLabeled'},\n",
              "   'email': 'nana@nana.at',\n",
              "   'uid': 'nana@nana.at_3b42b9e7-0c6e-4cfc-8ada-24fa46b89858_ACQ.png'}],\n",
              " '0e822eb9-4212-4ca5-a08a-63e9c8608bd8_ACQ.png': [{'bounding_boxes': {'Mouth_Whole': {'top_left': {'x': 165,\n",
              "      'y': 383},\n",
              "     'bottom_right': {'x': 287, 'y': 432}},\n",
              "    'ForeheadCenter_Lower': {'top_left': {'x': 193, 'y': 212},\n",
              "     'bottom_right': {'x': 237, 'y': 305}},\n",
              "    'EyeLeft_Whole': {'top_left': {'x': 126, 'y': 261},\n",
              "     'bottom_right': {'x': 190, 'y': 306}},\n",
              "    'EyeRight_Whole': {'top_left': {'x': 246, 'y': 254},\n",
              "     'bottom_right': {'x': 311, 'y': 295}},\n",
              "    'EyeLeft_InnerCorner': {'top_left': {'x': 175, 'y': 269},\n",
              "     'bottom_right': {'x': 199, 'y': 292}},\n",
              "    'EyeRight_InnerCorner': {'top_left': {'x': 235, 'y': 265},\n",
              "     'bottom_right': {'x': 262, 'y': 287}},\n",
              "    'EyeLeft_OuterCorner': {'top_left': {'x': 114, 'y': 274},\n",
              "     'bottom_right': {'x': 134, 'y': 301}},\n",
              "    'EyeRight_OuterCorner': {'top_left': {'x': 300, 'y': 263},\n",
              "     'bottom_right': {'x': 323, 'y': 289}},\n",
              "    'EyeLeft_NasalRoot': {'top_left': {'x': 193, 'y': 275},\n",
              "     'bottom_right': {'x': 202, 'y': 299}},\n",
              "    'EyeRight_NasalRoot': {'top_left': {'x': 230, 'y': 275},\n",
              "     'bottom_right': {'x': 243, 'y': 296}},\n",
              "    'EyeLeft_UpperLid': {'top_left': {'x': 130, 'y': 253},\n",
              "     'bottom_right': {'x': 184, 'y': 274}},\n",
              "    'EyeRight_UpperLid': {'top_left': {'x': 248, 'y': 248},\n",
              "     'bottom_right': {'x': 306, 'y': 269}},\n",
              "    'EyeLeft_LowerLid': {'top_left': {'x': 132, 'y': 291},\n",
              "     'bottom_right': {'x': 177, 'y': 307}},\n",
              "    'EyeRight_LowerLid': {'top_left': {'x': 259, 'y': 285},\n",
              "     'bottom_right': {'x': 305, 'y': 299}},\n",
              "    'EyeLeft_Lower': {'top_left': {'x': 132, 'y': 299},\n",
              "     'bottom_right': {'x': 190, 'y': 332}},\n",
              "    'EyeRight_Lower': {'top_left': {'x': 246, 'y': 296},\n",
              "     'bottom_right': {'x': 305, 'y': 323}},\n",
              "    'MouthLeft_Corner': {'top_left': {'x': 165, 'y': 403},\n",
              "     'bottom_right': {'x': 186, 'y': 423}},\n",
              "    'MouthRight_Corner': {'top_left': {'x': 260, 'y': 399},\n",
              "     'bottom_right': {'x': 287, 'y': 418}},\n",
              "    'MouthUpper_Pallium': {'top_left': {'x': 196, 'y': 355},\n",
              "     'bottom_right': {'x': 250, 'y': 408}},\n",
              "    'MouthUpper_Lip': {'top_left': {'x': 188, 'y': 389},\n",
              "     'bottom_right': {'x': 258, 'y': 414}},\n",
              "    'MouthLower_Lip': {'top_left': {'x': 189, 'y': 397},\n",
              "     'bottom_right': {'x': 259, 'y': 425}},\n",
              "    'MouthLower_UnderLip': {'top_left': {'x': 189, 'y': 416},\n",
              "     'bottom_right': {'x': 259, 'y': 443}},\n",
              "    'ChinWhole_Tip': {'top_left': {'x': 206, 'y': 463},\n",
              "     'bottom_right': {'x': 252, 'y': 486}},\n",
              "    'TempleLeft_Whole': {'top_left': {'x': 92, 'y': 225},\n",
              "     'bottom_right': {'x': 115, 'y': 271}},\n",
              "    'TempleRight_Whole': {'top_left': {'x': 314, 'y': 209},\n",
              "     'bottom_right': {'x': 344, 'y': 253}}},\n",
              "   'image_name': '0e822eb9-4212-4ca5-a08a-63e9c8608bd8_ACQ.png',\n",
              "   'face_labels': {'EyeLeft_NasalRoot_Dark': 'No',\n",
              "    'EyeRight_NasalRoot_Dark': 'No',\n",
              "    'EyeLeft_OuterCorner_Dark': 'No',\n",
              "    'EyeRight_OuterCorner_Dark': 'No',\n",
              "    'EyeLeft_InnerCorner_BrightDot': 'No',\n",
              "    'EyeRight_InnerCorner_BrightDot': 'No',\n",
              "    'EyeLeft_InnerCorner_Bright': 'No',\n",
              "    'EyeRight_InnerCorner_Bright': 'Yes',\n",
              "    'EyeLeft_Whole_Protruding': 'No',\n",
              "    'EyeRight_Whole_Protruding': 'No',\n",
              "    'EyeLeft_UpperLid_Droopy': 'No',\n",
              "    'EyeRight_UpperLid_Droopy': 'No',\n",
              "    'EyeLeft_Lower_Pale': 'No',\n",
              "    'EyeRight_Lower_Pale': 'No',\n",
              "    'EyeLeft_Lower_Tearsack': 'No',\n",
              "    'EyeRight_Lower_Tearsack': 'No',\n",
              "    'EyeLeft_Lower_Dark': 'No',\n",
              "    'EyeRight_Lower_Dark': 'No',\n",
              "    'MouthUpper_Lip_BrightLine': 'No',\n",
              "    'MouthLower_Lip_BrightLine': 'No',\n",
              "    'MouthLeft_Corner_Cracked': 'Yes',\n",
              "    'MouthRight_Corner_Cracked': 'Yes',\n",
              "    'MouthLeft_Corner_Red': 'No',\n",
              "    'MouthRight_Corner_Red': 'No',\n",
              "    'MouthUpper_Pallium_VerticalWrinkles': 'Yes',\n",
              "    'MouthUpper_Pallium_Red': 'No',\n",
              "    'MouthUpper_Pallium_Dark': 'No',\n",
              "    'MouthLower_UnderLip_Swollen': 'Yes',\n",
              "    'MouthUpper_UnderLip_VerticalWrinkles': 'No',\n",
              "    'ChinWhole_Tip_Red': 'No',\n",
              "    'ChinWhole_Tip_Dimples': 'No',\n",
              "    'ForeheadCenter_Lower_VerticalWrinkles': 'No',\n",
              "    'TempleLeft_Whole_Dented': 'No',\n",
              "    'TempleRight_Whole_Dented': 'No',\n",
              "    'CheekRight_Whole_Red': 'NotLabeled',\n",
              "    'CheekLeft_Whole_Red': 'NotLabeled',\n",
              "    'MouthWhole_Around_BrownYellow': 'NotLabeled',\n",
              "    'MouthWhole_Lips_Smooth': 'NotLabeled',\n",
              "    'MouthWhole_Lips_AlteredStructure': 'NotLabeled'},\n",
              "   'email': 'nana@nana.at',\n",
              "   'uid': 'nana@nana.at_0e822eb9-4212-4ca5-a08a-63e9c8608bd8_ACQ.png'}],\n",
              " '5ab232a3-ac93-4415-8250-481e5001434b_ACQ.png': [{'bounding_boxes': {'Mouth_Whole': {'top_left': {'x': 785,\n",
              "      'y': 2237},\n",
              "     'bottom_right': {'x': 1521, 'y': 2567}},\n",
              "    'ForeheadCenter_Lower': {'top_left': {'x': 1002, 'y': 1026},\n",
              "     'bottom_right': {'x': 1323, 'y': 1602}},\n",
              "    'EyeLeft_Whole': {'top_left': {'x': 580, 'y': 1305},\n",
              "     'bottom_right': {'x': 969, 'y': 1612}},\n",
              "    'EyeRight_Whole': {'top_left': {'x': 1341, 'y': 1306},\n",
              "     'bottom_right': {'x': 1728, 'y': 1608}},\n",
              "    'EyeLeft_InnerCorner': {'top_left': {'x': 879, 'y': 1383},\n",
              "     'bottom_right': {'x': 1029, 'y': 1552}},\n",
              "    'EyeRight_InnerCorner': {'top_left': {'x': 1285, 'y': 1387},\n",
              "     'bottom_right': {'x': 1432, 'y': 1550}},\n",
              "    'EyeLeft_OuterCorner': {'top_left': {'x': 515, 'y': 1383},\n",
              "     'bottom_right': {'x': 622, 'y': 1573}},\n",
              "    'EyeRight_OuterCorner': {'top_left': {'x': 1696, 'y': 1379},\n",
              "     'bottom_right': {'x': 1791, 'y': 1572}},\n",
              "    'EyeLeft_NasalRoot': {'top_left': {'x': 989, 'y': 1452},\n",
              "     'bottom_right': {'x': 1064, 'y': 1613}},\n",
              "    'EyeRight_NasalRoot': {'top_left': {'x': 1257, 'y': 1453},\n",
              "     'bottom_right': {'x': 1329, 'y': 1613}},\n",
              "    'EyeLeft_UpperLid': {'top_left': {'x': 596, 'y': 1248},\n",
              "     'bottom_right': {'x': 943, 'y': 1411}},\n",
              "    'EyeRight_UpperLid': {'top_left': {'x': 1373, 'y': 1256},\n",
              "     'bottom_right': {'x': 1719, 'y': 1409}},\n",
              "    'EyeLeft_LowerLid': {'top_left': {'x': 614, 'y': 1537},\n",
              "     'bottom_right': {'x': 892, 'y': 1641}},\n",
              "    'EyeRight_LowerLid': {'top_left': {'x': 1418, 'y': 1526},\n",
              "     'bottom_right': {'x': 1699, 'y': 1636}},\n",
              "    'EyeLeft_Lower': {'top_left': {'x': 614, 'y': 1613},\n",
              "     'bottom_right': {'x': 971, 'y': 1817}},\n",
              "    'EyeRight_Lower': {'top_left': {'x': 1342, 'y': 1613},\n",
              "     'bottom_right': {'x': 1699, 'y': 1814}},\n",
              "    'MouthLeft_Corner': {'top_left': {'x': 785, 'y': 2340},\n",
              "     'bottom_right': {'x': 974, 'y': 2463}},\n",
              "    'MouthRight_Corner': {'top_left': {'x': 1384, 'y': 2327},\n",
              "     'bottom_right': {'x': 1521, 'y': 2460}},\n",
              "    'MouthUpper_Pallium': {'top_left': {'x': 1027, 'y': 2050},\n",
              "     'bottom_right': {'x': 1335, 'y': 2392}},\n",
              "    'MouthUpper_Lip': {'top_left': {'x': 983, 'y': 2275},\n",
              "     'bottom_right': {'x': 1376, 'y': 2407}},\n",
              "    'MouthLower_Lip': {'top_left': {'x': 980, 'y': 2316},\n",
              "     'bottom_right': {'x': 1380, 'y': 2528}},\n",
              "    'MouthLower_UnderLip': {'top_left': {'x': 980, 'y': 2469},\n",
              "     'bottom_right': {'x': 1380, 'y': 2571}},\n",
              "    'ChinWhole_Tip': {'top_left': {'x': 1027, 'y': 2706},\n",
              "     'bottom_right': {'x': 1298, 'y': 2782}},\n",
              "    'TempleLeft_Whole': {'top_left': {'x': 404, 'y': 1045},\n",
              "     'bottom_right': {'x': 540, 'y': 1305}},\n",
              "    'TempleRight_Whole': {'top_left': {'x': 1753, 'y': 1046},\n",
              "     'bottom_right': {'x': 1856, 'y': 1303}}},\n",
              "   'image_name': '5ab232a3-ac93-4415-8250-481e5001434b_ACQ.png',\n",
              "   'face_labels': {'EyeLeft_NasalRoot_Dark': 'Yes',\n",
              "    'EyeRight_NasalRoot_Dark': 'Yes',\n",
              "    'EyeLeft_OuterCorner_Dark': 'No',\n",
              "    'EyeRight_OuterCorner_Dark': 'No',\n",
              "    'EyeLeft_InnerCorner_BrightDot': 'No',\n",
              "    'EyeRight_InnerCorner_BrightDot': 'No',\n",
              "    'EyeLeft_InnerCorner_Bright': 'Yes',\n",
              "    'EyeRight_InnerCorner_Bright': 'Yes',\n",
              "    'EyeLeft_Whole_Protruding': 'No',\n",
              "    'EyeRight_Whole_Protruding': 'No',\n",
              "    'EyeLeft_UpperLid_Droopy': 'No',\n",
              "    'EyeRight_UpperLid_Droopy': 'No',\n",
              "    'EyeLeft_Lower_Pale': 'No',\n",
              "    'EyeRight_Lower_Pale': 'No',\n",
              "    'EyeLeft_Lower_Tearsack': 'No',\n",
              "    'EyeRight_Lower_Tearsack': 'No',\n",
              "    'EyeLeft_Lower_Dark': 'Yes',\n",
              "    'EyeRight_Lower_Dark': 'Yes',\n",
              "    'MouthUpper_Lip_BrightLine': 'No',\n",
              "    'MouthLower_Lip_BrightLine': 'No',\n",
              "    'MouthLeft_Corner_Cracked': 'No',\n",
              "    'MouthRight_Corner_Cracked': 'No',\n",
              "    'MouthLeft_Corner_Red': 'No',\n",
              "    'MouthRight_Corner_Red': 'No',\n",
              "    'MouthUpper_Pallium_VerticalWrinkles': 'No',\n",
              "    'MouthUpper_Pallium_Red': 'No',\n",
              "    'MouthUpper_Pallium_Dark': 'No',\n",
              "    'MouthLower_UnderLip_Swollen': 'No',\n",
              "    'MouthUpper_UnderLip_VerticalWrinkles': 'No',\n",
              "    'ChinWhole_Tip_Red': 'No',\n",
              "    'ChinWhole_Tip_Dimples': 'No',\n",
              "    'ForeheadCenter_Lower_VerticalWrinkles': 'No',\n",
              "    'TempleLeft_Whole_Dented': 'No',\n",
              "    'TempleRight_Whole_Dented': 'No',\n",
              "    'CheekRight_Whole_Red': 'NotLabeled',\n",
              "    'CheekLeft_Whole_Red': 'NotLabeled',\n",
              "    'MouthWhole_Around_BrownYellow': 'NotLabeled',\n",
              "    'MouthWhole_Lips_Smooth': 'NotLabeled',\n",
              "    'MouthWhole_Lips_AlteredStructure': 'NotLabeled'},\n",
              "   'email': 'nana@nana.at',\n",
              "   'uid': 'nana@nana.at_5ab232a3-ac93-4415-8250-481e5001434b_ACQ.png'}],\n",
              " '4e3037a4-809b-4573-91bd-cb9d78cc4a27_ACQ.png': [{'bounding_boxes': {'Mouth_Whole': {'top_left': {'x': 533,\n",
              "      'y': 1842},\n",
              "     'bottom_right': {'x': 1363, 'y': 2254}},\n",
              "    'ForeheadCenter_Lower': {'top_left': {'x': 767, 'y': 529},\n",
              "     'bottom_right': {'x': 1108, 'y': 1163}},\n",
              "    'EyeLeft_Whole': {'top_left': {'x': 310, 'y': 846},\n",
              "     'bottom_right': {'x': 734, 'y': 1206}},\n",
              "    'EyeRight_Whole': {'top_left': {'x': 1116, 'y': 837},\n",
              "     'bottom_right': {'x': 1515, 'y': 1203}},\n",
              "    'EyeLeft_InnerCorner': {'top_left': {'x': 635, 'y': 951},\n",
              "     'bottom_right': {'x': 797, 'y': 1140}},\n",
              "    'EyeRight_InnerCorner': {'top_left': {'x': 1063, 'y': 947},\n",
              "     'bottom_right': {'x': 1214, 'y': 1147}},\n",
              "    'EyeLeft_OuterCorner': {'top_left': {'x': 239, 'y': 944},\n",
              "     'bottom_right': {'x': 357, 'y': 1165}},\n",
              "    'EyeRight_OuterCorner': {'top_left': {'x': 1462, 'y': 940},\n",
              "     'bottom_right': {'x': 1589, 'y': 1162}},\n",
              "    'EyeLeft_NasalRoot': {'top_left': {'x': 760, 'y': 1011},\n",
              "     'bottom_right': {'x': 837, 'y': 1191}},\n",
              "    'EyeRight_NasalRoot': {'top_left': {'x': 1039, 'y': 1014},\n",
              "     'bottom_right': {'x': 1109, 'y': 1199}},\n",
              "    'EyeLeft_UpperLid': {'top_left': {'x': 326, 'y': 775},\n",
              "     'bottom_right': {'x': 704, 'y': 989}},\n",
              "    'EyeRight_UpperLid': {'top_left': {'x': 1153, 'y': 759},\n",
              "     'bottom_right': {'x': 1487, 'y': 986}},\n",
              "    'EyeLeft_LowerLid': {'top_left': {'x': 348, 'y': 1128},\n",
              "     'bottom_right': {'x': 649, 'y': 1234}},\n",
              "    'EyeRight_LowerLid': {'top_left': {'x': 1196, 'y': 1133},\n",
              "     'bottom_right': {'x': 1482, 'y': 1237}},\n",
              "    'EyeLeft_Lower': {'top_left': {'x': 348, 'y': 1191},\n",
              "     'bottom_right': {'x': 738, 'y': 1410}},\n",
              "    'EyeRight_Lower': {'top_left': {'x': 1121, 'y': 1199},\n",
              "     'bottom_right': {'x': 1482, 'y': 1402}},\n",
              "    'MouthLeft_Corner': {'top_left': {'x': 533, 'y': 1983},\n",
              "     'bottom_right': {'x': 715, 'y': 2115}},\n",
              "    'MouthRight_Corner': {'top_left': {'x': 1174, 'y': 1964},\n",
              "     'bottom_right': {'x': 1363, 'y': 2105}},\n",
              "    'MouthUpper_Pallium': {'top_left': {'x': 775, 'y': 1609},\n",
              "     'bottom_right': {'x': 1119, 'y': 2008}},\n",
              "    'MouthUpper_Lip': {'top_left': {'x': 728, 'y': 1884},\n",
              "     'bottom_right': {'x': 1161, 'y': 2060}},\n",
              "    'MouthLower_Lip': {'top_left': {'x': 720, 'y': 1976},\n",
              "     'bottom_right': {'x': 1167, 'y': 2213}},\n",
              "    'MouthLower_UnderLip': {'top_left': {'x': 720, 'y': 2150},\n",
              "     'bottom_right': {'x': 1167, 'y': 2234}},\n",
              "    'ChinWhole_Tip': {'top_left': {'x': 807, 'y': 2370},\n",
              "     'bottom_right': {'x': 1116, 'y': 2478}},\n",
              "    'TempleLeft_Whole': {'top_left': {'x': 111, 'y': 637},\n",
              "     'bottom_right': {'x': 265, 'y': 940}},\n",
              "    'TempleRight_Whole': {'top_left': {'x': 1573, 'y': 634},\n",
              "     'bottom_right': {'x': 1671, 'y': 931}}},\n",
              "   'image_name': '4e3037a4-809b-4573-91bd-cb9d78cc4a27_ACQ.png',\n",
              "   'face_labels': {'EyeLeft_NasalRoot_Dark': 'No',\n",
              "    'EyeRight_NasalRoot_Dark': 'No',\n",
              "    'EyeLeft_OuterCorner_Dark': 'No',\n",
              "    'EyeRight_OuterCorner_Dark': 'No',\n",
              "    'EyeLeft_InnerCorner_BrightDot': 'No',\n",
              "    'EyeRight_InnerCorner_BrightDot': 'No',\n",
              "    'EyeLeft_InnerCorner_Bright': 'No',\n",
              "    'EyeRight_InnerCorner_Bright': 'No',\n",
              "    'EyeLeft_Whole_Protruding': 'No',\n",
              "    'EyeRight_Whole_Protruding': 'No',\n",
              "    'EyeLeft_UpperLid_Droopy': 'No',\n",
              "    'EyeRight_UpperLid_Droopy': 'No',\n",
              "    'EyeLeft_Lower_Pale': 'No',\n",
              "    'EyeRight_Lower_Pale': 'No',\n",
              "    'EyeLeft_Lower_Tearsack': 'Yes',\n",
              "    'EyeRight_Lower_Tearsack': 'Yes',\n",
              "    'EyeLeft_Lower_Dark': 'No',\n",
              "    'EyeRight_Lower_Dark': 'No',\n",
              "    'MouthUpper_Lip_BrightLine': 'No',\n",
              "    'MouthLower_Lip_BrightLine': 'No',\n",
              "    'MouthLeft_Corner_Cracked': 'No',\n",
              "    'MouthRight_Corner_Cracked': 'No',\n",
              "    'MouthLeft_Corner_Red': 'No',\n",
              "    'MouthRight_Corner_Red': 'No',\n",
              "    'MouthUpper_Pallium_VerticalWrinkles': 'No',\n",
              "    'MouthUpper_Pallium_Red': 'No',\n",
              "    'MouthUpper_Pallium_Dark': 'No',\n",
              "    'MouthLower_UnderLip_Swollen': 'Yes',\n",
              "    'MouthUpper_UnderLip_VerticalWrinkles': 'No',\n",
              "    'ChinWhole_Tip_Red': 'No',\n",
              "    'ChinWhole_Tip_Dimples': 'No',\n",
              "    'ForeheadCenter_Lower_VerticalWrinkles': 'No',\n",
              "    'TempleLeft_Whole_Dented': 'No',\n",
              "    'TempleRight_Whole_Dented': 'No',\n",
              "    'CheekRight_Whole_Red': 'NotLabeled',\n",
              "    'CheekLeft_Whole_Red': 'NotLabeled',\n",
              "    'MouthWhole_Around_BrownYellow': 'NotLabeled',\n",
              "    'MouthWhole_Lips_Smooth': 'NotLabeled',\n",
              "    'MouthWhole_Lips_AlteredStructure': 'NotLabeled'},\n",
              "   'email': 'nana@nana.at',\n",
              "   'uid': 'nana@nana.at_4e3037a4-809b-4573-91bd-cb9d78cc4a27_ACQ.png'}],\n",
              " '7fd43bc9-7a17-40e9-b6f2-6cc43c5d1c06_ACQ.png': [{'bounding_boxes': {'Mouth_Whole': {'top_left': {'x': 805,\n",
              "      'y': 2146},\n",
              "     'bottom_right': {'x': 1586, 'y': 2548}},\n",
              "    'ForeheadCenter_Lower': {'top_left': {'x': 1104, 'y': 862},\n",
              "     'bottom_right': {'x': 1460, 'y': 1456}},\n",
              "    'EyeLeft_Whole': {'top_left': {'x': 637, 'y': 1098},\n",
              "     'bottom_right': {'x': 1068, 'y': 1442}},\n",
              "    'EyeRight_Whole': {'top_left': {'x': 1444, 'y': 1175},\n",
              "     'bottom_right': {'x': 1865, 'y': 1533}},\n",
              "    'EyeLeft_InnerCorner': {'top_left': {'x': 967, 'y': 1216},\n",
              "     'bottom_right': {'x': 1132, 'y': 1400}},\n",
              "    'EyeRight_InnerCorner': {'top_left': {'x': 1396, 'y': 1266},\n",
              "     'bottom_right': {'x': 1540, 'y': 1448}},\n",
              "    'EyeLeft_OuterCorner': {'top_left': {'x': 561, 'y': 1185},\n",
              "     'bottom_right': {'x': 702, 'y': 1393}},\n",
              "    'EyeRight_OuterCorner': {'top_left': {'x': 1834, 'y': 1276},\n",
              "     'bottom_right': {'x': 1934, 'y': 1488}},\n",
              "    'EyeLeft_NasalRoot': {'top_left': {'x': 1075, 'y': 1304},\n",
              "     'bottom_right': {'x': 1164, 'y': 1482}},\n",
              "    'EyeRight_NasalRoot': {'top_left': {'x': 1375, 'y': 1327},\n",
              "     'bottom_right': {'x': 1436, 'y': 1513}},\n",
              "    'EyeLeft_UpperLid': {'top_left': {'x': 669, 'y': 1040},\n",
              "     'bottom_right': {'x': 1043, 'y': 1251}},\n",
              "    'EyeRight_UpperLid': {'top_left': {'x': 1501, 'y': 1106},\n",
              "     'bottom_right': {'x': 1855, 'y': 1323}},\n",
              "    'EyeLeft_LowerLid': {'top_left': {'x': 669, 'y': 1367},\n",
              "     'bottom_right': {'x': 985, 'y': 1491}},\n",
              "    'EyeRight_LowerLid': {'top_left': {'x': 1525, 'y': 1437},\n",
              "     'bottom_right': {'x': 1831, 'y': 1558}},\n",
              "    'EyeLeft_Lower': {'top_left': {'x': 669, 'y': 1482},\n",
              "     'bottom_right': {'x': 1063, 'y': 1684}},\n",
              "    'EyeRight_Lower': {'top_left': {'x': 1446, 'y': 1513},\n",
              "     'bottom_right': {'x': 1831, 'y': 1741}},\n",
              "    'MouthLeft_Corner': {'top_left': {'x': 805, 'y': 2257},\n",
              "     'bottom_right': {'x': 997, 'y': 2394}},\n",
              "    'MouthRight_Corner': {'top_left': {'x': 1439, 'y': 2260},\n",
              "     'bottom_right': {'x': 1586, 'y': 2428}},\n",
              "    'MouthUpper_Pallium': {'top_left': {'x': 1051, 'y': 1979},\n",
              "     'bottom_right': {'x': 1386, 'y': 2316}},\n",
              "    'MouthUpper_Lip': {'top_left': {'x': 1009, 'y': 2189},\n",
              "     'bottom_right': {'x': 1427, 'y': 2333}},\n",
              "    'MouthLower_Lip': {'top_left': {'x': 1005, 'y': 2272},\n",
              "     'bottom_right': {'x': 1429, 'y': 2506}},\n",
              "    'MouthLower_UnderLip': {'top_left': {'x': 1005, 'y': 2442},\n",
              "     'bottom_right': {'x': 1429, 'y': 2505}},\n",
              "    'ChinWhole_Tip': {'top_left': {'x': 1037, 'y': 2654},\n",
              "     'bottom_right': {'x': 1314, 'y': 2712}},\n",
              "    'TempleLeft_Whole': {'top_left': {'x': 479, 'y': 781},\n",
              "     'bottom_right': {'x': 616, 'y': 1068}},\n",
              "    'TempleRight_Whole': {'top_left': {'x': 1954, 'y': 881},\n",
              "     'bottom_right': {'x': 2046, 'y': 1177}}},\n",
              "   'image_name': '7fd43bc9-7a17-40e9-b6f2-6cc43c5d1c06_ACQ.png',\n",
              "   'face_labels': {'EyeLeft_NasalRoot_Dark': 'Yes',\n",
              "    'EyeRight_NasalRoot_Dark': 'Yes',\n",
              "    'EyeLeft_OuterCorner_Dark': 'No',\n",
              "    'EyeRight_OuterCorner_Dark': 'No',\n",
              "    'EyeLeft_InnerCorner_BrightDot': 'No',\n",
              "    'EyeRight_InnerCorner_BrightDot': 'No',\n",
              "    'EyeLeft_InnerCorner_Bright': 'No',\n",
              "    'EyeRight_InnerCorner_Bright': 'No',\n",
              "    'EyeLeft_Whole_Protruding': 'No',\n",
              "    'EyeRight_Whole_Protruding': 'No',\n",
              "    'EyeLeft_UpperLid_Droopy': 'No',\n",
              "    'EyeRight_UpperLid_Droopy': 'No',\n",
              "    'EyeLeft_Lower_Pale': 'No',\n",
              "    'EyeRight_Lower_Pale': 'No',\n",
              "    'EyeLeft_Lower_Tearsack': 'No',\n",
              "    'EyeRight_Lower_Tearsack': 'No',\n",
              "    'EyeLeft_Lower_Dark': 'No',\n",
              "    'EyeRight_Lower_Dark': 'No',\n",
              "    'MouthUpper_Lip_BrightLine': 'No',\n",
              "    'MouthLower_Lip_BrightLine': 'No',\n",
              "    'MouthLeft_Corner_Cracked': 'No',\n",
              "    'MouthRight_Corner_Cracked': 'No',\n",
              "    'MouthLeft_Corner_Red': 'No',\n",
              "    'MouthRight_Corner_Red': 'No',\n",
              "    'MouthUpper_Pallium_VerticalWrinkles': 'No',\n",
              "    'MouthUpper_Pallium_Red': 'No',\n",
              "    'MouthUpper_Pallium_Dark': 'No',\n",
              "    'MouthLower_UnderLip_Swollen': 'No',\n",
              "    'MouthUpper_UnderLip_VerticalWrinkles': 'No',\n",
              "    'ChinWhole_Tip_Red': 'No',\n",
              "    'ChinWhole_Tip_Dimples': 'No',\n",
              "    'ForeheadCenter_Lower_VerticalWrinkles': 'No',\n",
              "    'TempleLeft_Whole_Dented': 'No',\n",
              "    'TempleRight_Whole_Dented': 'No',\n",
              "    'CheekRight_Whole_Red': 'NotLabeled',\n",
              "    'CheekLeft_Whole_Red': 'NotLabeled',\n",
              "    'MouthWhole_Around_BrownYellow': 'NotLabeled',\n",
              "    'MouthWhole_Lips_Smooth': 'NotLabeled',\n",
              "    'MouthWhole_Lips_AlteredStructure': 'NotLabeled'},\n",
              "   'email': 'nana@nana.at',\n",
              "   'uid': 'nana@nana.at_7fd43bc9-7a17-40e9-b6f2-6cc43c5d1c06_ACQ.png'}]}"
            ]
          },
          "execution_count": 9,
          "metadata": {},
          "output_type": "execute_result"
        }
      ],
      "source": [
        "decided\n"
      ]
    },
    {
      "cell_type": "code",
      "execution_count": 7,
      "metadata": {
        "id": "_z4OgM034iJZ"
      },
      "outputs": [
        {
          "ename": "NameError",
          "evalue": "name 'all_labels' is not defined",
          "output_type": "error",
          "traceback": [
            "\u001b[1;31m---------------------------------------------------------------------------\u001b[0m",
            "\u001b[1;31mNameError\u001b[0m                                 Traceback (most recent call last)",
            "\u001b[1;32mc:\\Users\\LeonidTanas\\source\\BiogenaProject\\ModelsTrainingScript\\UpdatingGood.ipynb Cell 2\u001b[0m in \u001b[0;36m<module>\u001b[1;34m\u001b[0m\n\u001b[0;32m      <a href='vscode-notebook-cell:/c%3A/Users/LeonidTanas/source/BiogenaProject/ModelsTrainingScript/UpdatingGood.ipynb#X13sZmlsZQ%3D%3D?line=0'>1</a>\u001b[0m unique_features \u001b[39m=\u001b[39m \u001b[39mset\u001b[39m()\n\u001b[1;32m----> <a href='vscode-notebook-cell:/c%3A/Users/LeonidTanas/source/BiogenaProject/ModelsTrainingScript/UpdatingGood.ipynb#X13sZmlsZQ%3D%3D?line=2'>3</a>\u001b[0m \u001b[39mfor\u001b[39;00m r \u001b[39min\u001b[39;00m all_labels:\n\u001b[0;32m      <a href='vscode-notebook-cell:/c%3A/Users/LeonidTanas/source/BiogenaProject/ModelsTrainingScript/UpdatingGood.ipynb#X13sZmlsZQ%3D%3D?line=3'>4</a>\u001b[0m   unique_features\u001b[39m.\u001b[39mupdate(\u001b[39mlist\u001b[39m(r[\u001b[39m\"\u001b[39m\u001b[39mface_labels\u001b[39m\u001b[39m\"\u001b[39m]\u001b[39m.\u001b[39mkeys()))\n\u001b[0;32m      <a href='vscode-notebook-cell:/c%3A/Users/LeonidTanas/source/BiogenaProject/ModelsTrainingScript/UpdatingGood.ipynb#X13sZmlsZQ%3D%3D?line=5'>6</a>\u001b[0m model_to_feature \u001b[39m=\u001b[39m {}\n",
            "\u001b[1;31mNameError\u001b[0m: name 'all_labels' is not defined"
          ]
        }
      ],
      "source": [
        "\n",
        "\n",
        "unique_features = set()\n",
        "\n",
        "for r in all_labels:\n",
        "  unique_features.update(list(r[\"face_labels\"].keys()))\n",
        "\n",
        "model_to_feature = {}\n",
        "\n",
        "for f in unique_features:\n",
        "  u = f.replace(\"Right\", \"\").replace(\"Left\", \"\")\n",
        "\n",
        "  if u not in model_to_feature:\n",
        "    model_to_feature[u] = [f]\n",
        "  else:\n",
        "    model_to_feature[u].append(f)\n",
        "\n",
        "model_to_feature"
      ]
    },
    {
      "cell_type": "code",
      "execution_count": null,
      "metadata": {
        "id": "wTYWAIDKBOUy"
      },
      "outputs": [],
      "source": [
        "from utils.label_validator import ImageLabel\n",
        "\n",
        "def validate_labels(image_labels):\n",
        "  return [ImageLabel(**lb) for lb in image_labels]"
      ]
    },
    {
      "cell_type": "code",
      "execution_count": null,
      "metadata": {
        "id": "Dwi8GqGpAQro"
      },
      "outputs": [],
      "source": [
        "all_images = set([l.image_name for l in all_labels])\n",
        "\n",
        "feature_to_model = {v: k for k, values in model_to_feature.items() for v in values}\n",
        "feature_to_bb = {f: \"_\".join(f.split(\"_\")[:-1]) for f in  feature_to_model.keys()}"
      ]
    },
    {
      "cell_type": "code",
      "execution_count": null,
      "metadata": {
        "id": "fUdYIdpr_QXR"
      },
      "outputs": [],
      "source": [
        "from utils.constants import INFO_PATH, IMAGES_PATH"
      ]
    },
    {
      "cell_type": "code",
      "execution_count": null,
      "metadata": {
        "id": "yu8r4ODA_TuY"
      },
      "outputs": [],
      "source": [
        "# with open(INFO_PATH, \"w\") as f:\n",
        "#   # data = json.load(f)\n",
        "#   data = {}\n",
        "#   data[\"FEATURE_TO_MODEL\"] = feature_to_model\n",
        "#   data[\"FEATURE_TO_BOUNDING_BOX\"] = feature_to_bb,\n",
        "#   data[\"LABELED_IMAGES\"] = list(all_images)\n",
        "#   data[\"MODELS_TO_FEATURES\"] = model_to_feature\n",
        "#   json.dump(data,f, indent=4)"
      ]
    },
    {
      "cell_type": "code",
      "execution_count": null,
      "metadata": {
        "id": "Juzo7tm4zRtK"
      },
      "outputs": [],
      "source": [
        "with open(INFO_PATH) as f:\n",
        "  data = json.load(f)"
      ]
    },
    {
      "cell_type": "code",
      "execution_count": null,
      "metadata": {
        "id": "xLmcT5m7zfn7"
      },
      "outputs": [],
      "source": [
        "all_images = data[\"LABELED_IMAGES\"]"
      ]
    },
    {
      "cell_type": "code",
      "execution_count": null,
      "metadata": {
        "id": "ULgvTbXIBh58"
      },
      "outputs": [],
      "source": [
        "\n",
        "downloaded = os.listdir(IMAGES_PATH)\n",
        "\n",
        "missing = [img for img in all_images if img not in downloaded]\n",
        "\n",
        "len(missing)"
      ]
    },
    {
      "cell_type": "code",
      "execution_count": null,
      "metadata": {
        "colab": {
          "base_uri": "https://localhost:8080/"
        },
        "id": "j6nZuBxeCwgn",
        "outputId": "e14732fb-8474-4070-c4aa-f85cec4bcdf2"
      },
      "outputs": [
        {
          "data": {
            "text/plain": [
              "46"
            ]
          },
          "execution_count": 245,
          "metadata": {},
          "output_type": "execute_result"
        }
      ],
      "source": []
    },
    {
      "cell_type": "code",
      "execution_count": null,
      "metadata": {
        "id": "Y9co_ZPZB4r-"
      },
      "outputs": [],
      "source": []
    },
    {
      "cell_type": "code",
      "execution_count": null,
      "metadata": {
        "colab": {
          "base_uri": "https://localhost:8080/"
        },
        "id": "kDCYbabeCpot",
        "outputId": "87d73a78-ebe9-4f1e-d75d-cd410299b681"
      },
      "outputs": [
        {
          "data": {
            "text/plain": [
              "3150"
            ]
          },
          "execution_count": 235,
          "metadata": {},
          "output_type": "execute_result"
        }
      ],
      "source": [
        "len(missing_batch) * 50"
      ]
    },
    {
      "cell_type": "code",
      "execution_count": null,
      "metadata": {
        "id": "UuYCvA3JEhwH"
      },
      "outputs": [],
      "source": [
        "import requests\n",
        "\n",
        "def download_image(url: str, save_path: str):\n",
        "  req = requests.get(url)\n",
        "  req.raise_for_status()\n",
        "\n",
        "  with open(save_path, \"wb\") as f:\n",
        "    f.write(req.content)"
      ]
    },
    {
      "cell_type": "code",
      "execution_count": null,
      "metadata": {
        "id": "7rpDwrr_zZgj"
      },
      "outputs": [],
      "source": [
        "all_labels = validate_labels(all_labels)"
      ]
    },
    {
      "cell_type": "code",
      "execution_count": null,
      "metadata": {
        "colab": {
          "base_uri": "https://localhost:8080/"
        },
        "id": "8n9zD10_89MX",
        "outputId": "753eb95f-9d87-4ddd-ca21-e024917e72aa"
      },
      "outputs": [
        {
          "name": "stdout",
          "output_type": "stream",
          "text": [
            "  adding: utils/ (stored 0%)\n",
            "  adding: utils/__pycache__/ (stored 0%)\n",
            "  adding: utils/__pycache__/helper_func.cpython-37.pyc (deflated 41%)\n",
            "  adding: utils/__pycache__/cropping.cpython-37.pyc (deflated 40%)\n",
            "  adding: utils/__pycache__/label_validator.cpython-37.pyc (deflated 54%)\n",
            "  adding: utils/__pycache__/__init__.cpython-37.pyc (deflated 26%)\n",
            "  adding: utils/__pycache__/constants.cpython-37.pyc (deflated 33%)\n",
            "  adding: utils/helper_func.py (deflated 61%)\n",
            "  adding: utils/local_config.json (deflated 26%)\n",
            "  adding: utils/label_validator.py (deflated 72%)\n",
            "  adding: utils/.ipynb_checkpoints/ (stored 0%)\n",
            "  adding: utils/__init__.py (stored 0%)\n",
            "  adding: utils/constants.py (deflated 54%)\n",
            "  adding: utils/cropping.py (deflated 67%)\n"
          ]
        }
      ],
      "source": [
        "!rm utils.zip\n",
        "!zip utils.zip utils -r"
      ]
    },
    {
      "cell_type": "code",
      "execution_count": null,
      "metadata": {
        "id": "75DggrNgyiAA"
      },
      "outputs": [],
      "source": [
        "# Save data in different folders for different models\n",
        "# Each object has this format:\n",
        "# {\n",
        "#   \"image_name\": \"in_001382_male_21_InGlasses0.jpg\",\n",
        "#   \"bounding_box\": {\n",
        "#     \"top_left\": {\n",
        "#       \"x\": 1482,\n",
        "#       \"y\": 3654\n",
        "#     },\n",
        "#     \"bottom_right\": {\n",
        "#       \"x\": 1864,\n",
        "#       \"y\": 3748\n",
        "#     }\n",
        "#   }\n",
        "# }\n",
        "\n",
        "import os, json\n",
        "from utils.constants import PROCESSED_LABELS_PATH\n",
        "\n",
        "original_data = {model_name: {\"Yes\": {}, \"No\":{}} for model_name in model_to_feature.keys()}\n",
        "\n",
        "for label in all_labels:\n",
        "\n",
        "  for feature, value in label.face_labels.items():\n",
        "    model_name = feature_to_model[feature]\n",
        "    if value in (\"Yes\", \"No\"):\n",
        "      bb_name = feature_to_bb[feature]\n",
        "\n",
        "      side = \"\"\n",
        "      if \"Left\" in feature:\n",
        "        side = \"Left\"\n",
        "      elif \"Right\" in feature:\n",
        "        side = \"Right\"\n",
        "\n",
        "      bb = label.bounding_boxes.get(bb_name)\n",
        "      if not bb or bb == \"NotValid\":\n",
        "        continue\n",
        "      img_name = label.image_name\n",
        "      obj = {\n",
        "          \"image_name\": img_name,\n",
        "          \"bounding_box\": bb.dict(),\n",
        "      }\n",
        "      if side:\n",
        "        obj[\"side\"] = side\n",
        "      original_data[model_name][value][img_name] = obj\n",
        "\n",
        "for model_name, labels in original_data.items():\n",
        "  \n",
        "  for label, objects in labels.items():\n",
        "    \n",
        "    path = os.path.join(PROCESSED_LABELS_PATH, model_name)\n",
        "    os.makedirs(path, exist_ok=True)\n",
        "    \n",
        "    obj_path = os.path.join(path, f\"{label}.json\")\n",
        "\n",
        "    with open(obj_path, \"w\") as f:\n",
        "      json.dump(objects, f, indent=4)"
      ]
    },
    {
      "cell_type": "code",
      "execution_count": 44,
      "metadata": {
        "id": "hI8qX-r0GwGN"
      },
      "outputs": [],
      "source": [
        "from deepdiff import DeepDiff  # For Deep Difference of 2 objects\n",
        "from deepdiff import grep, DeepSearch  # For finding if item exists in an object\n",
        "from deepdiff import DeepHash"
      ]
    },
    {
      "cell_type": "code",
      "execution_count": 49,
      "metadata": {
        "colab": {
          "base_uri": "https://localhost:8080/"
        },
        "id": "prtV_s0VJIUn",
        "outputId": "e44e09f7-7692-4702-a0b2-0db565b1de11"
      },
      "outputs": [
        {
          "data": {
            "text/plain": [
              "{'dictionary_item_added': [root['bye']],\n",
              " 'values_changed': {\"root['img1']['l1']\": {'new_value': 'no',\n",
              "   'old_value': 'yes'}}}"
            ]
          },
          "execution_count": 49,
          "metadata": {},
          "output_type": "execute_result"
        }
      ],
      "source": [
        "a = {\n",
        "    \"img1\": {\n",
        "      \"l1\": \"yes\", \n",
        "      \"l2\": \"no\"         \n",
        "    },\n",
        "    \"goodbye\": 2\n",
        "}\n",
        "\n",
        "b = {\n",
        "    \"img1\": {\n",
        "      \"l1\": \"no\", \n",
        "      \"l2\": \"no\"         \n",
        "    },\n",
        "    \"goodbye\": 2,\n",
        "     \"bye\": 4\n",
        "}\n",
        "\n",
        "DeepDiff(a, b)\n",
        "\n"
      ]
    },
    {
      "cell_type": "code",
      "execution_count": 50,
      "metadata": {
        "colab": {
          "base_uri": "https://localhost:8080/"
        },
        "id": "P4K3BEWrazNB",
        "outputId": "0467618c-6d3a-4880-9d2a-94e9ea9d90ba"
      },
      "outputs": [
        {
          "data": {
            "text/plain": [
              "{'img1': 'a191948d6e97acfcb38bbdd51a2fbf55095b3be2baa84155807e9cc52d042bfe', 'l1': '352e72d3c622ec3954ae096d7da368be4979a3d68668134be2858b4084c987da', 'yes': '37b1eedf69826c9ade65e48f4baba79bd781b80141e9221167fc3ea69afbd949', 'l2': '27ee189cc347dcee00a819723b834cd1e4d3a2a86b539173840fafd49b612f73', 'no': '199f849c0f1be94281c4f2ce6333fd910e0e516be4ce13d48131560165ff76a6', '!>*id140589510484768': '539246fc6be378594a99448372e4086bca741404b3427870005a5c674ff9c1f8', 'goodbye': '29f089a8994e5d0f93a...}"
            ]
          },
          "execution_count": 50,
          "metadata": {},
          "output_type": "execute_result"
        }
      ],
      "source": [
        "DeepHash(a)"
      ]
    },
    {
      "cell_type": "code",
      "execution_count": null,
      "metadata": {
        "id": "rNAow_rnk-Cc"
      },
      "outputs": [],
      "source": [
        "!rm CroppedAugmented CroppedOriginal -r"
      ]
    },
    {
      "cell_type": "code",
      "execution_count": null,
      "metadata": {
        "colab": {
          "base_uri": "https://localhost:8080/"
        },
        "id": "C7Ve8Ppij3IW",
        "outputId": "b998fedd-edc5-411c-ac51-5b1df506f16d"
      },
      "outputs": [
        {
          "name": "stderr",
          "output_type": "stream",
          "text": [
            "328it [01:07,  4.87it/s]\n",
            "2889it [15:31,  3.10it/s]\n"
          ]
        },
        {
          "data": {
            "text/plain": [
              "['06804_NVDE.jpg',\n",
              " 'bionary_labeling_evafeuchter_wtcvlxqeii_acq.jpeg',\n",
              " '43200_NVDE.jpg',\n",
              " '23760_NVDE.jpg',\n",
              " '16875_NVDE.jpg',\n",
              " '36457_NVDE.jpg',\n",
              " '09583_NVDE.jpg',\n",
              " 'bionary_labeling_evafeuchter_0m4rogo3d2_acq.jpeg',\n",
              " '16257_NVDE.jpg',\n",
              " '35657_NVDE.jpg',\n",
              " 'bionary_labeling_evafeuchter_ekyo11ev8z_acq.jpeg',\n",
              " 'bionary_labeling_evafeuchter_zus0rubi8u_acq.jpeg',\n",
              " '14356_NVDE.jpg',\n",
              " '06804_NVDE.jpg',\n",
              " 'bionary_labeling_evafeuchter_88n98wqhyl_acq.jpeg',\n",
              " '27968_NVDE.jpg',\n",
              " 'bionary_labeling_evafeuchter_lvi06ny05n_acq.jpeg',\n",
              " '43197_NVDE.jpg',\n",
              " 'bionary_labeling_evafeuchter_27bo7haxnz_acq.jpeg',\n",
              " 'bionary_labeling_evafeuchter_bbsawi4ce5_acq.jpeg',\n",
              " '39361_NVDE.jpg',\n",
              " '17489_NVDE.jpg']"
            ]
          },
          "execution_count": 255,
          "metadata": {},
          "output_type": "execute_result"
        }
      ],
      "source": [
        "from utils.cropping import crop_images\n",
        "\n",
        "#17 minutes\n",
        "model_name = \"Eye_OuterCorner_Dark\"\n",
        "\n",
        "crop_images(model_name)"
      ]
    },
    {
      "cell_type": "code",
      "execution_count": null,
      "metadata": {
        "id": "PQIMiTN5QgG_"
      },
      "outputs": [],
      "source": [
        "\n",
        "from utils.cropping import count_widths_heights"
      ]
    },
    {
      "cell_type": "code",
      "execution_count": null,
      "metadata": {
        "colab": {
          "base_uri": "https://localhost:8080/"
        },
        "id": "9ivpmnbyTwbk",
        "outputId": "5e31cc66-2325-4096-912e-1dd30134e2a7"
      },
      "outputs": [
        {
          "name": "stderr",
          "output_type": "stream",
          "text": [
            "3195it [00:01, 2415.13it/s] \n"
          ]
        }
      ],
      "source": [
        "model_name = \"Eye_OuterCorner_Dark\"\n",
        "\n",
        "res = count_widths_heights(model_name)\n",
        "\n",
        "widths = res[\"widths\"]\n",
        "heights = res[\"heights\"]"
      ]
    },
    {
      "cell_type": "code",
      "execution_count": 40,
      "metadata": {
        "id": "Bw9RHImVXk5f"
      },
      "outputs": [],
      "source": [
        "import concurrent\n",
        "from PIL import Image\n",
        "from utils.constants import CROPPED_RESIZED_PATH, CROPPED_ORIG_PATH\n",
        "from typing import Tuple, Dict\n",
        "from tqdm import tqdm\n",
        "import os\n",
        "import numpy as np\n",
        "\n",
        "def read_numpy(src_img_path, size_w_h = Tuple[int, int]):\n",
        "  return np.array(Image.open(src_img_path))\n",
        "# Counts the amount of \n",
        "def read_images_as_ndarray(model_name: str, size_w_h = Tuple[int, int], max_workers = 100)-> Dict[str, np.ndarray]:\n",
        "  width, height = size_w_h\n",
        "  source_model_path = os.path.join(CROPPED_RESIZED_PATH, model_name, f\"w_{width}_h_{height}\")\n",
        "\n",
        "  if not os.path.exists(source_model_path):\n",
        "    raise ValueError(f\"Path '{source_model_path}' does not exist\")\n",
        "\n",
        "  data = {}\n",
        "  for label in (\"Yes\", \"No\"):\n",
        "\n",
        "    source_folder = os.path.join(source_model_path, label)\n",
        "    images_to_read = [os.path.join(source_folder, img) for img in os.listdir(source_folder) if \".png\" in img]\n",
        "    \n",
        "\n",
        "    with concurrent.futures.ThreadPoolExecutor(max_workers=max_workers) as executor:\n",
        "      futures = []\n",
        "\n",
        "      for img_path in images_to_read:\n",
        "        futures.append( executor.submit(read_numpy, img_path))\n",
        "      data[label] = [future.result() for future in tqdm(concurrent.futures.as_completed(futures))]\n",
        "\n",
        "  for k in data:\n",
        "    data[k] = np.array(data[k])\n",
        "  return data\n"
      ]
    },
    {
      "cell_type": "code",
      "execution_count": null,
      "metadata": {
        "id": "0y23HZRPUDEC"
      },
      "outputs": [],
      "source": [
        "model_name = \"Eye_OuterCorner_Dark\"\n",
        "data = read_images_as_ndarray(model_name, (125, 200))"
      ]
    },
    {
      "cell_type": "code",
      "execution_count": 42,
      "metadata": {
        "colab": {
          "base_uri": "https://localhost:8080/",
          "height": 305
        },
        "id": "PEUFvN3NFlF-",
        "outputId": "90338a7c-a50e-4b7c-fcc3-07a71d32b1aa"
      },
      "outputs": [
        {
          "ename": "ModuleNotFoundError",
          "evalue": "ignored",
          "output_type": "error",
          "traceback": [
            "\u001b[0;31m---------------------------------------------------------------------------\u001b[0m",
            "\u001b[0;31mModuleNotFoundError\u001b[0m                       Traceback (most recent call last)",
            "\u001b[0;32m<ipython-input-42-9d6b2496ec85>\u001b[0m in \u001b[0;36m<module>\u001b[0;34m\u001b[0m\n\u001b[0;32m----> 1\u001b[0;31m \u001b[0;32mimport\u001b[0m \u001b[0mdeepdiff\u001b[0m\u001b[0;34m\u001b[0m\u001b[0;34m\u001b[0m\u001b[0m\n\u001b[0m",
            "\u001b[0;31mModuleNotFoundError\u001b[0m: No module named 'deepdiff'",
            "",
            "\u001b[0;31m---------------------------------------------------------------------------\u001b[0;32m\nNOTE: If your import is failing due to a missing package, you can\nmanually install dependencies using either !pip or !apt.\n\nTo view examples of installing some common dependencies, click the\n\"Open Examples\" button below.\n\u001b[0;31m---------------------------------------------------------------------------\u001b[0m\n"
          ]
        }
      ],
      "source": [
        "import deepdiff"
      ]
    },
    {
      "cell_type": "code",
      "execution_count": 39,
      "metadata": {
        "colab": {
          "base_uri": "https://localhost:8080/"
        },
        "id": "1WNtmla7EyLK",
        "outputId": "1038c3a7-8cdc-495c-917c-678d67d5611f"
      },
      "outputs": [
        {
          "name": "stdout",
          "output_type": "stream",
          "text": [
            "Yes (327, 200, 125, 3)\n",
            "No (2868, 200, 125, 3)\n"
          ]
        }
      ],
      "source": [
        "for k, v in data.items():\n",
        "  print(k, v.shape)"
      ]
    },
    {
      "cell_type": "code",
      "execution_count": 35,
      "metadata": {
        "id": "7IlinlmnEOFg"
      },
      "outputs": [],
      "source": [
        "data[\"Yes\"] = np.array(data[\"Yes\"])"
      ]
    },
    {
      "cell_type": "code",
      "execution_count": 36,
      "metadata": {
        "colab": {
          "base_uri": "https://localhost:8080/"
        },
        "id": "NRnGjymFEZpe",
        "outputId": "05ea2f0d-3f61-4fc9-c84e-8e07929cce9c"
      },
      "outputs": [
        {
          "data": {
            "text/plain": [
              "(327, 200, 125, 3)"
            ]
          },
          "execution_count": 36,
          "metadata": {},
          "output_type": "execute_result"
        }
      ],
      "source": [
        "data[\"Yes\"].shape"
      ]
    },
    {
      "cell_type": "code",
      "execution_count": 27,
      "metadata": {
        "colab": {
          "base_uri": "https://localhost:8080/"
        },
        "id": "8EHY9NjsbAsV",
        "outputId": "36c4a266-405b-413f-a867-6fbd836678db"
      },
      "outputs": [
        {
          "name": "stderr",
          "output_type": "stream",
          "text": [
            "3195it [00:47, 67.23it/s]\n"
          ]
        }
      ],
      "source": [
        "model_name = \"Eye_OuterCorner_Dark\"\n",
        "resize_images_for_model(model_name, (125, 200))"
      ]
    },
    {
      "cell_type": "code",
      "execution_count": null,
      "metadata": {
        "colab": {
          "base_uri": "https://localhost:8080/",
          "height": 281
        },
        "id": "EWCesXj8XxFW",
        "outputId": "265b747c-fb2c-409e-a0a1-dddc99ef4fb6"
      },
      "outputs": [
        {
          "data": {
            "image/png": "[encoded data removed]",
            "text/plain": [
              "<Figure size 432x288 with 2 Axes>"
            ]
          },
          "metadata": {
            "needs_background": "light"
          },
          "output_type": "display_data"
        }
      ],
      "source": [
        "draw_histogram(widths, heights)"
      ]
    },
    {
      "cell_type": "code",
      "execution_count": null,
      "metadata": {
        "colab": {
          "base_uri": "https://localhost:8080/"
        },
        "id": "nYqHvQYvmRwx",
        "outputId": "fcf5dd0f-c776-4e83-8d55-a2f753b50a17"
      },
      "outputs": [
        {
          "name": "stdout",
          "output_type": "stream",
          "text": [
            "2889\n",
            "328\n"
          ]
        }
      ],
      "source": [
        "json_path = \"/content/LabelsProcessed/Eye_OuterCorner_Dark/No.json\"\n",
        "\n",
        "with open(json_path) as f:\n",
        "  objects = json.load(f)\n",
        "\n",
        "a = [k for k in list(objects.keys())]\n",
        "print(len(a))\n",
        "\n",
        "json_path = \"/content/LabelsProcessed/Eye_OuterCorner_Dark/Yes.json\"\n",
        "\n",
        "with open(json_path) as f:\n",
        "  objects = json.load(f)\n",
        "\n",
        "a = [k for k in list(objects.keys())]\n",
        "print(len(a))"
      ]
    },
    {
      "cell_type": "code",
      "execution_count": 41,
      "metadata": {
        "colab": {
          "base_uri": "https://localhost:8080/"
        },
        "id": "Bx8UbdUjGepy",
        "outputId": "44b9bf4c-e066-464e-eeae-d603827d7e74"
      },
      "outputs": [
        {
          "name": "stdout",
          "output_type": "stream",
          "text": [
            "updating: utils/ (stored 0%)\n",
            "updating: utils/__pycache__/ (stored 0%)\n",
            "updating: utils/__pycache__/helper_func.cpython-37.pyc (deflated 41%)\n",
            "updating: utils/__pycache__/cropping.cpython-37.pyc (deflated 40%)\n",
            "updating: utils/__pycache__/label_validator.cpython-37.pyc (deflated 54%)\n",
            "updating: utils/__pycache__/__init__.cpython-37.pyc (deflated 26%)\n",
            "updating: utils/__pycache__/constants.cpython-37.pyc (deflated 33%)\n",
            "updating: utils/helper_func.py (deflated 61%)\n",
            "updating: utils/local_config.json (deflated 26%)\n",
            "updating: utils/label_validator.py (deflated 72%)\n",
            "updating: utils/.ipynb_checkpoints/ (stored 0%)\n",
            "updating: utils/__init__.py (stored 0%)\n",
            "updating: utils/constants.py (deflated 54%)\n",
            "updating: utils/cropping.py (deflated 70%)\n"
          ]
        }
      ],
      "source": [
        "!zip utils.zip utils -r"
      ]
    }
  ],
  "metadata": {
    "colab": {
      "collapsed_sections": [],
      "provenance": []
    },
    "kernelspec": {
      "display_name": "Python 3.9.6 ('.env': venv)",
      "language": "python",
      "name": "python3"
    },
    "language_info": {
      "codemirror_mode": {
        "name": "ipython",
        "version": 3
      },
      "file_extension": ".py",
      "mimetype": "text/x-python",
      "name": "python",
      "nbconvert_exporter": "python",
      "pygments_lexer": "ipython3",
      "version": "3.9.6"
    },
    "vscode": {
      "interpreter": {
        "hash": "0a379348662d524839066cf1b51864132f97ee149e4bc2824e2a8a75a0a12c55"
      }
    }
  },
  "nbformat": 4,
  "nbformat_minor": 0
}
